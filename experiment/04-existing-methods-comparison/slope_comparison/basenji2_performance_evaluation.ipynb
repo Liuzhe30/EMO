{
 "cells": [
  {
   "cell_type": "markdown",
   "metadata": {},
   "source": [
    "#### prediction performance of Enformer"
   ]
  },
  {
   "cell_type": "code",
   "execution_count": 1,
   "metadata": {},
   "outputs": [],
   "source": [
    "import numpy as np\n",
    "from sklearn.metrics import mean_squared_error\n",
    "from scipy.stats import pearsonr\n",
    "from prettytable import PrettyTable"
   ]
  },
  {
   "cell_type": "code",
   "execution_count": 2,
   "metadata": {},
   "outputs": [],
   "source": [
    "result_path = '../../../datasets/tissue_specific/basenji2_prediction_results_slope/'\n",
    "\n",
    "compare_tissue_list = ['Adipose_Subcutaneous','Artery_Tibial','Breast_Mammary_Tissue','Colon_Transverse','Nerve_Tibial','Thyroid']\n",
    "model_size_list = ['small','middle']"
   ]
  },
  {
   "cell_type": "code",
   "execution_count": 3,
   "metadata": {},
   "outputs": [
    {
     "name": "stdout",
     "output_type": "stream",
     "text": [
      "Tissue: Adipose_Subcutaneous\n",
      "Model size: small\n",
      "+--------+-----------------------+\n",
      "|  PCC   |          MSE          |\n",
      "+--------+-----------------------+\n",
      "| 0.0729 | 8.084486469665876e+33 |\n",
      "+--------+-----------------------+\n",
      "Tissue: Adipose_Subcutaneous\n",
      "Model size: middle\n",
      "+---------+------------------------+\n",
      "|   PCC   |          MSE           |\n",
      "+---------+------------------------+\n",
      "| -0.2353 | 2.2377515735640209e+33 |\n",
      "+---------+------------------------+\n",
      "Tissue: Artery_Tibial\n",
      "Model size: small\n",
      "+---------+-----------------------+\n",
      "|   PCC   |          MSE          |\n",
      "+---------+-----------------------+\n",
      "| -0.0824 | 7.416579546187466e+33 |\n",
      "+---------+-----------------------+\n",
      "Tissue: Artery_Tibial\n",
      "Model size: middle\n",
      "+--------+-----------------------+\n",
      "|  PCC   |          MSE          |\n",
      "+--------+-----------------------+\n",
      "| 0.1624 | 6.951002815751023e+33 |\n",
      "+--------+-----------------------+\n",
      "Tissue: Breast_Mammary_Tissue\n",
      "Model size: small\n",
      "+--------+-----------------------+\n",
      "|  PCC   |          MSE          |\n",
      "+--------+-----------------------+\n",
      "| 0.1091 | 3.327622537481919e+33 |\n",
      "+--------+-----------------------+\n",
      "Tissue: Breast_Mammary_Tissue\n",
      "Model size: middle\n",
      "+--------+----------------------+\n",
      "|  PCC   |         MSE          |\n",
      "+--------+----------------------+\n",
      "| 0.1285 | 5.71121481793141e+33 |\n",
      "+--------+----------------------+\n",
      "Tissue: Colon_Transverse\n",
      "Model size: small\n",
      "+--------+------------------------+\n",
      "|  PCC   |          MSE           |\n",
      "+--------+------------------------+\n",
      "| 0.0278 | 4.8293719046219377e+33 |\n",
      "+--------+------------------------+\n",
      "Tissue: Colon_Transverse\n",
      "Model size: middle\n",
      "+--------+-----------------------+\n",
      "|  PCC   |          MSE          |\n",
      "+--------+-----------------------+\n",
      "| 0.0392 | 3.917727405159508e+33 |\n",
      "+--------+-----------------------+\n",
      "Tissue: Nerve_Tibial\n",
      "Model size: small\n",
      "+--------+------------------------+\n",
      "|  PCC   |          MSE           |\n",
      "+--------+------------------------+\n",
      "| 0.1441 | 1.5333795136116383e+33 |\n",
      "+--------+------------------------+\n",
      "Tissue: Nerve_Tibial\n",
      "Model size: middle\n",
      "+---------+-----------------------+\n",
      "|   PCC   |          MSE          |\n",
      "+---------+-----------------------+\n",
      "| -0.1431 | 7.900803550918376e+33 |\n",
      "+---------+-----------------------+\n",
      "Tissue: Thyroid\n",
      "Model size: small\n",
      "+--------+-----------------------+\n",
      "|  PCC   |          MSE          |\n",
      "+--------+-----------------------+\n",
      "| 0.0148 | 5.643730481411712e+33 |\n",
      "+--------+-----------------------+\n",
      "Tissue: Thyroid\n",
      "Model size: middle\n",
      "+--------+------------------------+\n",
      "|  PCC   |          MSE           |\n",
      "+--------+------------------------+\n",
      "| 0.1485 | 2.7264485009595704e+33 |\n",
      "+--------+------------------------+\n"
     ]
    }
   ],
   "source": [
    "for tissue in compare_tissue_list:\n",
    "    for model_size in model_size_list:\n",
    "        label = np.load(result_path + model_size + '_' + tissue + '_label.npy')\n",
    "        y_pred = np.load(result_path + model_size + '_' + tissue + '_prediction.npy')\n",
    "\n",
    "        # Ensure both arrays are of same length\n",
    "        min_len = min(len(label), len(y_pred))\n",
    "        label = label[:min_len]\n",
    "        y_pred = y_pred[:min_len]\n",
    "\n",
    "        # Calculate metrics\n",
    "        mse = np.round(mean_squared_error(label, y_pred), 4)\n",
    "        pcc, _ = pearsonr(label, y_pred)\n",
    "        pcc = np.round(pcc, 4)\n",
    "\n",
    "        # Print results\n",
    "        print(f'Tissue: {tissue}')\n",
    "        print(f'Model size: {model_size}')\n",
    "        table = PrettyTable(['PCC', 'MSE'])\n",
    "        table.add_row([pcc, mse])\n",
    "        print(table)"
   ]
  }
 ],
 "metadata": {
  "kernelspec": {
   "display_name": "Python 3.9.12 64-bit",
   "language": "python",
   "name": "python3"
  },
  "language_info": {
   "codemirror_mode": {
    "name": "ipython",
    "version": 3
   },
   "file_extension": ".py",
   "mimetype": "text/x-python",
   "name": "python",
   "nbconvert_exporter": "python",
   "pygments_lexer": "ipython3",
   "version": "3.9.12"
  },
  "orig_nbformat": 4,
  "vscode": {
   "interpreter": {
    "hash": "6fff98fc3b3d81bd655c2cc48858186e4d9e2db7b515bf1c3221888f12a62f87"
   }
  }
 },
 "nbformat": 4,
 "nbformat_minor": 2
}
