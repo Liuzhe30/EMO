{
 "cells": [
  {
   "cell_type": "markdown",
   "metadata": {},
   "source": [
    "#### prediction performance of Enformer"
   ]
  },
  {
   "cell_type": "code",
   "execution_count": 1,
   "metadata": {},
   "outputs": [],
   "source": [
    "import numpy as np\n",
    "from tensorflow.keras.utils import to_categorical\n",
    "from sklearn.metrics import precision_score, accuracy_score,recall_score, f1_score\n",
    "import matplotlib.pyplot as plt\n",
    "%matplotlib inline\n",
    "from sklearn.metrics import roc_curve, auc\n",
    "from prettytable import PrettyTable\n",
    "import pandas as pd"
   ]
  },
  {
   "cell_type": "code",
   "execution_count": 2,
   "metadata": {},
   "outputs": [],
   "source": [
    "result_path = '../../datasets/tissue_specific/expecto_results/'\n",
    "origin_path = '../../datasets/tissue_specific/'\n",
    "\n",
    "compare_tissue_list = ['Adipose_Subcutaneous','Artery_Tibial','Breast_Mammary_Tissue','Colon_Transverse','Nerve_Tibial','Thyroid']\n",
    "compare_tissue_list2 = ['Adipose Subcutaneous','Artery Tibial','Breast Mammary Tissue','Colon Transverse','Nerve Tibial','Thyroid | GTEx']\n",
    "model_size_list = ['small','middle']"
   ]
  },
  {
   "cell_type": "code",
   "execution_count": 3,
   "metadata": {},
   "outputs": [
    {
     "name": "stdout",
     "output_type": "stream",
     "text": [
      "tissue:  Adipose_Subcutaneous\n",
      "model size:  small\n",
      "+------+-----------+--------+----------+------+\n",
      "| ACC  | Precision | Recall | F1-score | AUC  |\n",
      "+------+-----------+--------+----------+------+\n",
      "| 0.41 |    0.48   | 0.545  |  0.511   | 0.41 |\n",
      "+------+-----------+--------+----------+------+\n",
      "tissue:  Adipose_Subcutaneous\n",
      "model size:  middle\n",
      "+-------+-----------+--------+----------+-------+\n",
      "|  ACC  | Precision | Recall | F1-score |  AUC  |\n",
      "+-------+-----------+--------+----------+-------+\n",
      "| 0.508 |    0.6    | 0.353  |  0.444   | 0.508 |\n",
      "+-------+-----------+--------+----------+-------+\n",
      "tissue:  Artery_Tibial\n",
      "model size:  small\n",
      "+-------+-----------+--------+----------+-------+\n",
      "|  ACC  | Precision | Recall | F1-score |  AUC  |\n",
      "+-------+-----------+--------+----------+-------+\n",
      "| 0.444 |   0.481   | 0.542  |   0.51   | 0.444 |\n",
      "+-------+-----------+--------+----------+-------+\n",
      "tissue:  Artery_Tibial\n",
      "model size:  middle\n",
      "+-------+-----------+--------+----------+-------+\n",
      "|  ACC  | Precision | Recall | F1-score |  AUC  |\n",
      "+-------+-----------+--------+----------+-------+\n",
      "| 0.439 |   0.412   | 0.241  |  0.304   | 0.439 |\n",
      "+-------+-----------+--------+----------+-------+\n",
      "tissue:  Breast_Mammary_Tissue\n",
      "model size:  small\n",
      "+-------+-----------+--------+----------+-------+\n",
      "|  ACC  | Precision | Recall | F1-score |  AUC  |\n",
      "+-------+-----------+--------+----------+-------+\n",
      "| 0.458 |    0.6    | 0.562  |  0.581   | 0.458 |\n",
      "+-------+-----------+--------+----------+-------+\n",
      "tissue:  Breast_Mammary_Tissue\n",
      "model size:  middle\n",
      "+-------+-----------+--------+----------+-------+\n",
      "|  ACC  | Precision | Recall | F1-score |  AUC  |\n",
      "+-------+-----------+--------+----------+-------+\n",
      "| 0.567 |   0.545   | 0.429  |   0.48   | 0.567 |\n",
      "+-------+-----------+--------+----------+-------+\n",
      "tissue:  Colon_Transverse\n",
      "model size:  small\n",
      "+-------+-----------+--------+----------+-------+\n",
      "|  ACC  | Precision | Recall | F1-score |  AUC  |\n",
      "+-------+-----------+--------+----------+-------+\n",
      "| 0.333 |   0.333   | 0.571  |  0.421   | 0.333 |\n",
      "+-------+-----------+--------+----------+-------+\n",
      "tissue:  Colon_Transverse\n",
      "model size:  middle\n",
      "+-------+-----------+--------+----------+-------+\n",
      "|  ACC  | Precision | Recall | F1-score |  AUC  |\n",
      "+-------+-----------+--------+----------+-------+\n",
      "| 0.395 |   0.438   | 0.333  |  0.378   | 0.395 |\n",
      "+-------+-----------+--------+----------+-------+\n",
      "tissue:  Nerve_Tibial\n",
      "model size:  small\n",
      "+-------+-----------+--------+----------+-------+\n",
      "|  ACC  | Precision | Recall | F1-score |  AUC  |\n",
      "+-------+-----------+--------+----------+-------+\n",
      "| 0.432 |    0.5    | 0.571  |  0.533   | 0.432 |\n",
      "+-------+-----------+--------+----------+-------+\n",
      "tissue:  Nerve_Tibial\n",
      "model size:  middle\n",
      "+-------+-----------+--------+----------+-------+\n",
      "|  ACC  | Precision | Recall | F1-score |  AUC  |\n",
      "+-------+-----------+--------+----------+-------+\n",
      "| 0.472 |   0.227   | 0.192  |  0.208   | 0.472 |\n",
      "+-------+-----------+--------+----------+-------+\n",
      "tissue:  Thyroid\n",
      "model size:  small\n",
      "+-------+-----------+--------+----------+-------+\n",
      "|  ACC  | Precision | Recall | F1-score |  AUC  |\n",
      "+-------+-----------+--------+----------+-------+\n",
      "| 0.457 |   0.519   | 0.538  |  0.528   | 0.457 |\n",
      "+-------+-----------+--------+----------+-------+\n",
      "tissue:  Thyroid\n",
      "model size:  middle\n",
      "+-------+-----------+--------+----------+-------+\n",
      "|  ACC  | Precision | Recall | F1-score |  AUC  |\n",
      "+-------+-----------+--------+----------+-------+\n",
      "| 0.442 |   0.333   | 0.318  |  0.326   | 0.442 |\n",
      "+-------+-----------+--------+----------+-------+\n"
     ]
    }
   ],
   "source": [
    "for i in range(6):\n",
    "    tissue_origin = compare_tissue_list[i]\n",
    "    tissue_pred = compare_tissue_list2[i]\n",
    "    for model_size in model_size_list:\n",
    "        origin_data = pd.read_pickle(origin_path + model_size + '/test_' + model_size + '_' + tissue_origin + '.pkl')[['phenotype_id','variant_id','tss_distance','label','bulk']]\n",
    "        pred_data = pd.read_csv(result_path + 'test_' + model_size + '_' + tissue_origin + '.csv')\n",
    "        data_len = len(origin_data)\n",
    "        label = np.array(origin_data['label'])\n",
    "        y_score_middle = pred_data[tissue_pred][:data_len]\n",
    "        y_score = np.where(y_score_middle > 0, 1, 0)\n",
    "        y_score_pro = np.array([(0, 1) if x > 0 else (1, 0) for x in y_score_middle])\n",
    "        y_one_hot = to_categorical(label)\n",
    "        y_score_one_hot = to_categorical(y_score)\n",
    "\n",
    "        acc = np.round(accuracy_score(label, y_score),3)\n",
    "        precision = np.round(precision_score(label, y_score),3)\n",
    "        recall = np.round(recall_score(label, y_score),3)\n",
    "        f1 = np.round(f1_score(label, y_score),3)\n",
    "        fpr, tpr, thresholds = roc_curve(y_one_hot.ravel(),y_score_pro.ravel()) \n",
    "        auc_ = np.round(auc(fpr, tpr),3)\n",
    "\n",
    "        print('tissue: ', tissue_origin)\n",
    "        print('model size: ', model_size)\n",
    "        table = PrettyTable(['ACC','Precision','Recall','F1-score','AUC'])\n",
    "        table.add_row([acc,precision,recall,f1,auc_])\n",
    "        print(table)\n",
    "        "
   ]
  }
 ],
 "metadata": {
  "kernelspec": {
   "display_name": "Python 3.9.12 64-bit",
   "language": "python",
   "name": "python3"
  },
  "language_info": {
   "codemirror_mode": {
    "name": "ipython",
    "version": 3
   },
   "file_extension": ".py",
   "mimetype": "text/x-python",
   "name": "python",
   "nbconvert_exporter": "python",
   "pygments_lexer": "ipython3",
   "version": "3.9.12"
  },
  "orig_nbformat": 4,
  "vscode": {
   "interpreter": {
    "hash": "6fff98fc3b3d81bd655c2cc48858186e4d9e2db7b515bf1c3221888f12a62f87"
   }
  }
 },
 "nbformat": 4,
 "nbformat_minor": 2
}
