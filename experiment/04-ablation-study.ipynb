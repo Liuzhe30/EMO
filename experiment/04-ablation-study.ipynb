{
 "cells": [
  {
   "cell_type": "code",
   "execution_count": 1,
   "metadata": {},
   "outputs": [],
   "source": [
    "import os\n",
    "import pandas as pd\n",
    "import numpy as np\n",
    "from tensorflow.keras.utils import to_categorical\n",
    "from sklearn.metrics import confusion_matrix, precision_score, accuracy_score,recall_score, f1_score,roc_auc_score"
   ]
  },
  {
   "cell_type": "code",
   "execution_count": 2,
   "metadata": {},
   "outputs": [
    {
     "name": "stdout",
     "output_type": "stream",
     "text": [
      "confusion_matrix\n",
      " [[252  62]\n",
      " [ 91 237]]\n",
      "accuracy:0.7616822429906542\n",
      "precision:0.7926421404682275\n",
      "recall:0.7225609756097561\n",
      "f1-score:0.7559808612440191\n",
      "AUC :  0.8381396725575256\n"
     ]
    }
   ],
   "source": [
    "# no ATAC\n",
    "y_true = np.load('../model/pred_results_ablation/no_ATAC_label.npy')\n",
    "y_pred = np.load('../model/pred_results_ablation/no_ATAC_predict.npy')\n",
    "\n",
    "y_score = y_pred.argmax(axis=1)       \n",
    "test_label = y_true.argmax(axis=1)                         \n",
    "y_score_pro = y_pred # (212, 2)\n",
    "y_one_hot = y_true\n",
    "y_score_one_hot = to_categorical(y_score)\n",
    "\n",
    "obj1 = confusion_matrix(test_label, y_score)\n",
    "print('confusion_matrix\\n', obj1)\n",
    "print('accuracy:{}'.format(accuracy_score(test_label, y_score)))\n",
    "print('precision:{}'.format(precision_score(test_label, y_score)))\n",
    "print('recall:{}'.format(recall_score(test_label, y_score)))\n",
    "print('f1-score:{}'.format(f1_score(test_label, y_score)))\n",
    "\n",
    "from sklearn.metrics import roc_curve, auc\n",
    "fpr_xgb, tpr_xgb, thresholds = roc_curve(y_one_hot.ravel(),y_score_pro.ravel())   \n",
    "auc_xgb = auc(fpr_xgb, tpr_xgb)\n",
    "print(\"AUC : \", auc_xgb)"
   ]
  },
  {
   "cell_type": "code",
   "execution_count": 3,
   "metadata": {},
   "outputs": [
    {
     "name": "stdout",
     "output_type": "stream",
     "text": [
      "confusion_matrix\n",
      " [[216  98]\n",
      " [166 162]]\n",
      "accuracy:0.5887850467289719\n",
      "precision:0.6230769230769231\n",
      "recall:0.49390243902439024\n",
      "f1-score:0.5510204081632654\n",
      "AUC :  0.6189186828543978\n"
     ]
    }
   ],
   "source": [
    "# no Seq\n",
    "y_true = np.load('../model/pred_results_ablation/no_Seq_label.npy')\n",
    "y_pred = np.load('../model/pred_results_ablation/no_Seq_predict.npy')\n",
    "\n",
    "y_score = y_pred.argmax(axis=1)       \n",
    "test_label = y_true.argmax(axis=1)                         \n",
    "y_score_pro = y_pred # (212, 2)\n",
    "y_one_hot = y_true\n",
    "y_score_one_hot = to_categorical(y_score)\n",
    "\n",
    "obj1 = confusion_matrix(test_label, y_score)\n",
    "print('confusion_matrix\\n', obj1)\n",
    "print('accuracy:{}'.format(accuracy_score(test_label, y_score)))\n",
    "print('precision:{}'.format(precision_score(test_label, y_score)))\n",
    "print('recall:{}'.format(recall_score(test_label, y_score)))\n",
    "print('f1-score:{}'.format(f1_score(test_label, y_score)))\n",
    "\n",
    "from sklearn.metrics import roc_curve, auc\n",
    "fpr_xgb, tpr_xgb, thresholds = roc_curve(y_one_hot.ravel(),y_score_pro.ravel())   \n",
    "auc_xgb = auc(fpr_xgb, tpr_xgb)\n",
    "print(\"AUC : \", auc_xgb)"
   ]
  },
  {
   "cell_type": "code",
   "execution_count": 4,
   "metadata": {},
   "outputs": [
    {
     "name": "stdout",
     "output_type": "stream",
     "text": [
      "confusion_matrix\n",
      " [[248  66]\n",
      " [ 98 230]]\n",
      "accuracy:0.7445482866043613\n",
      "precision:0.777027027027027\n",
      "recall:0.7012195121951219\n",
      "f1-score:0.7371794871794871\n",
      "AUC :  0.8105183858852301\n"
     ]
    }
   ],
   "source": [
    "# no BiGRU\n",
    "y_true = np.load('../model/pred_results_ablation/no_BiGRU_label.npy')\n",
    "y_pred = np.load('../model/pred_results_ablation/no_BiGRU_predict.npy')\n",
    "\n",
    "y_score = y_pred.argmax(axis=1)       \n",
    "test_label = y_true.argmax(axis=1)                         \n",
    "y_score_pro = y_pred # (212, 2)\n",
    "y_one_hot = y_true\n",
    "y_score_one_hot = to_categorical(y_score)\n",
    "\n",
    "obj1 = confusion_matrix(test_label, y_score)\n",
    "print('confusion_matrix\\n', obj1)\n",
    "print('accuracy:{}'.format(accuracy_score(test_label, y_score)))\n",
    "print('precision:{}'.format(precision_score(test_label, y_score)))\n",
    "print('recall:{}'.format(recall_score(test_label, y_score)))\n",
    "print('f1-score:{}'.format(f1_score(test_label, y_score)))\n",
    "\n",
    "from sklearn.metrics import roc_curve, auc\n",
    "fpr_xgb, tpr_xgb, thresholds = roc_curve(y_one_hot.ravel(),y_score_pro.ravel())   \n",
    "auc_xgb = auc(fpr_xgb, tpr_xgb)\n",
    "print(\"AUC : \", auc_xgb)"
   ]
  },
  {
   "cell_type": "code",
   "execution_count": 5,
   "metadata": {},
   "outputs": [
    {
     "name": "stdout",
     "output_type": "stream",
     "text": [
      "confusion_matrix\n",
      " [[221  93]\n",
      " [ 84 244]]\n",
      "accuracy:0.7242990654205608\n",
      "precision:0.7240356083086054\n",
      "recall:0.7439024390243902\n",
      "f1-score:0.7338345864661655\n",
      "AUC :  0.8035696955580788\n"
     ]
    }
   ],
   "source": [
    "# no Transformer\n",
    "y_true = np.load('../model/pred_results_ablation/no_Transformer_label.npy')\n",
    "y_pred = np.load('../model/pred_results_ablation/no_Transformer_predict.npy')\n",
    "\n",
    "y_score = y_pred.argmax(axis=1)       \n",
    "test_label = y_true.argmax(axis=1)                         \n",
    "y_score_pro = y_pred # (212, 2)\n",
    "y_one_hot = y_true\n",
    "y_score_one_hot = to_categorical(y_score)\n",
    "\n",
    "obj1 = confusion_matrix(test_label, y_score)\n",
    "print('confusion_matrix\\n', obj1)\n",
    "print('accuracy:{}'.format(accuracy_score(test_label, y_score)))\n",
    "print('precision:{}'.format(precision_score(test_label, y_score)))\n",
    "print('recall:{}'.format(recall_score(test_label, y_score)))\n",
    "print('f1-score:{}'.format(f1_score(test_label, y_score)))\n",
    "\n",
    "from sklearn.metrics import roc_curve, auc\n",
    "fpr_xgb, tpr_xgb, thresholds = roc_curve(y_one_hot.ravel(),y_score_pro.ravel())   \n",
    "auc_xgb = auc(fpr_xgb, tpr_xgb)\n",
    "print(\"AUC : \", auc_xgb)"
   ]
  }
 ],
 "metadata": {
  "kernelspec": {
   "display_name": "Python 3.9.12 64-bit",
   "language": "python",
   "name": "python3"
  },
  "language_info": {
   "codemirror_mode": {
    "name": "ipython",
    "version": 3
   },
   "file_extension": ".py",
   "mimetype": "text/x-python",
   "name": "python",
   "nbconvert_exporter": "python",
   "pygments_lexer": "ipython3",
   "version": "3.9.12"
  },
  "orig_nbformat": 4,
  "vscode": {
   "interpreter": {
    "hash": "6fff98fc3b3d81bd655c2cc48858186e4d9e2db7b515bf1c3221888f12a62f87"
   }
  }
 },
 "nbformat": 4,
 "nbformat_minor": 2
}
