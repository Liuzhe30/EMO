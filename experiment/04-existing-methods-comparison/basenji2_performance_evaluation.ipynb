{
 "cells": [
  {
   "cell_type": "markdown",
   "metadata": {},
   "source": [
    "#### prediction performance of Basenji2"
   ]
  },
  {
   "cell_type": "code",
   "execution_count": 1,
   "metadata": {},
   "outputs": [],
   "source": [
    "import numpy as np\n",
    "from tensorflow.keras.utils import to_categorical\n",
    "from sklearn.metrics import precision_score, accuracy_score,recall_score, f1_score\n",
    "import matplotlib.pyplot as plt\n",
    "%matplotlib inline\n",
    "from sklearn.metrics import roc_curve, auc\n",
    "from prettytable import PrettyTable"
   ]
  },
  {
   "cell_type": "code",
   "execution_count": 2,
   "metadata": {},
   "outputs": [],
   "source": [
    "result_path = '../../datasets/tissue_specific/basenji2_prediction_results/'\n",
    "\n",
    "compare_tissue_list = ['Adipose_Subcutaneous','Artery_Tibial','Breast_Mammary_Tissue','Colon_Transverse','Nerve_Tibial','Thyroid']\n",
    "model_size_list = ['small','middle']"
   ]
  },
  {
   "cell_type": "code",
   "execution_count": 3,
   "metadata": {},
   "outputs": [
    {
     "name": "stdout",
     "output_type": "stream",
     "text": [
      "tissue:  Adipose_Subcutaneous\n",
      "model size:  small\n",
      "+-------+-----------+--------+----------+-------+\n",
      "|  ACC  | Precision | Recall | F1-score |  AUC  |\n",
      "+-------+-----------+--------+----------+-------+\n",
      "| 0.462 |    0.52   | 0.591  |  0.553   | 0.462 |\n",
      "+-------+-----------+--------+----------+-------+\n",
      "tissue:  Adipose_Subcutaneous\n",
      "model size:  middle\n",
      "+-------+-----------+--------+----------+-------+\n",
      "|  ACC  | Precision | Recall | F1-score |  AUC  |\n",
      "+-------+-----------+--------+----------+-------+\n",
      "| 0.541 |   0.615   | 0.471  |  0.533   | 0.668 |\n",
      "+-------+-----------+--------+----------+-------+\n",
      "tissue:  Artery_Tibial\n",
      "model size:  small\n",
      "+-------+-----------+--------+----------+-------+\n",
      "|  ACC  | Precision | Recall | F1-score |  AUC  |\n",
      "+-------+-----------+--------+----------+-------+\n",
      "| 0.556 |   0.562   |  0.75  |  0.643   | 0.526 |\n",
      "+-------+-----------+--------+----------+-------+\n",
      "tissue:  Artery_Tibial\n",
      "model size:  middle\n",
      "+-------+-----------+--------+----------+-------+\n",
      "|  ACC  | Precision | Recall | F1-score |  AUC  |\n",
      "+-------+-----------+--------+----------+-------+\n",
      "| 0.421 |   0.409   |  0.31  |  0.353   | 0.482 |\n",
      "+-------+-----------+--------+----------+-------+\n",
      "tissue:  Breast_Mammary_Tissue\n",
      "model size:  small\n",
      "+-------+-----------+--------+----------+-------+\n",
      "|  ACC  | Precision | Recall | F1-score |  AUC  |\n",
      "+-------+-----------+--------+----------+-------+\n",
      "| 0.542 |   0.778   | 0.438  |   0.56   | 0.609 |\n",
      "+-------+-----------+--------+----------+-------+\n",
      "tissue:  Breast_Mammary_Tissue\n",
      "model size:  middle\n",
      "+-------+-----------+--------+----------+-------+\n",
      "|  ACC  | Precision | Recall | F1-score |  AUC  |\n",
      "+-------+-----------+--------+----------+-------+\n",
      "| 0.467 |   0.438   |  0.5   |  0.467   | 0.442 |\n",
      "+-------+-----------+--------+----------+-------+\n",
      "tissue:  Colon_Transverse\n",
      "model size:  small\n",
      "+-------+-----------+--------+----------+-------+\n",
      "|  ACC  | Precision | Recall | F1-score |  AUC  |\n",
      "+-------+-----------+--------+----------+-------+\n",
      "| 0.515 |   0.429   | 0.429  |  0.429   | 0.505 |\n",
      "+-------+-----------+--------+----------+-------+\n",
      "tissue:  Colon_Transverse\n",
      "model size:  middle\n",
      "+-------+-----------+--------+----------+-------+\n",
      "|  ACC  | Precision | Recall | F1-score |  AUC  |\n",
      "+-------+-----------+--------+----------+-------+\n",
      "| 0.421 |   0.476   | 0.476  |  0.476   | 0.367 |\n",
      "+-------+-----------+--------+----------+-------+\n",
      "tissue:  Nerve_Tibial\n",
      "model size:  small\n",
      "+-------+-----------+--------+----------+-------+\n",
      "|  ACC  | Precision | Recall | F1-score |  AUC  |\n",
      "+-------+-----------+--------+----------+-------+\n",
      "| 0.541 |    0.6    | 0.571  |  0.585   | 0.595 |\n",
      "+-------+-----------+--------+----------+-------+\n",
      "tissue:  Nerve_Tibial\n",
      "model size:  middle\n",
      "+-------+-----------+--------+----------+-------+\n",
      "|  ACC  | Precision | Recall | F1-score |  AUC  |\n",
      "+-------+-----------+--------+----------+-------+\n",
      "| 0.486 |   0.378   | 0.654  |  0.479   | 0.453 |\n",
      "+-------+-----------+--------+----------+-------+\n",
      "tissue:  Thyroid\n",
      "model size:  small\n",
      "+-------+-----------+--------+----------+-------+\n",
      "|  ACC  | Precision | Recall | F1-score |  AUC  |\n",
      "+-------+-----------+--------+----------+-------+\n",
      "| 0.565 |    0.6    | 0.692  |  0.643   | 0.644 |\n",
      "+-------+-----------+--------+----------+-------+\n",
      "tissue:  Thyroid\n",
      "model size:  middle\n",
      "+-------+-----------+--------+----------+-------+\n",
      "|  ACC  | Precision | Recall | F1-score |  AUC  |\n",
      "+-------+-----------+--------+----------+-------+\n",
      "| 0.635 |   0.556   | 0.682  |  0.612   | 0.718 |\n",
      "+-------+-----------+--------+----------+-------+\n"
     ]
    }
   ],
   "source": [
    "for tissue in compare_tissue_list:\n",
    "    for model_size in model_size_list:\n",
    "        label = np.load(result_path + model_size + '_' + tissue + '_label.npy')\n",
    "        y_score = np.load(result_path + model_size + '_' + tissue + '_score.npy')\n",
    "        y_score_pro = np.load(result_path + model_size + '_' + tissue + '_score_pro.npy')\n",
    "        y_one_hot = to_categorical(label)\n",
    "        y_score_one_hot = to_categorical(y_score)\n",
    "\n",
    "        acc = np.round(accuracy_score(label, y_score),3)\n",
    "        precision = np.round(precision_score(label, y_score),3)\n",
    "        recall = np.round(recall_score(label, y_score),3)\n",
    "        f1 = np.round(f1_score(label, y_score),3)\n",
    "        fpr, tpr, thresholds = roc_curve(y_one_hot.ravel(),y_score_pro.ravel()) \n",
    "        auc_ = np.round(auc(fpr, tpr),3)\n",
    "\n",
    "        print('tissue: ', tissue)\n",
    "        print('model size: ', model_size)\n",
    "        table = PrettyTable(['ACC','Precision','Recall','F1-score','AUC'])\n",
    "        table.add_row([acc,precision,recall,f1,auc_])\n",
    "        print(table)"
   ]
  }
 ],
 "metadata": {
  "kernelspec": {
   "display_name": "Python 3.9.12 64-bit",
   "language": "python",
   "name": "python3"
  },
  "language_info": {
   "codemirror_mode": {
    "name": "ipython",
    "version": 3
   },
   "file_extension": ".py",
   "mimetype": "text/x-python",
   "name": "python",
   "nbconvert_exporter": "python",
   "pygments_lexer": "ipython3",
   "version": "3.9.12"
  },
  "orig_nbformat": 4,
  "vscode": {
   "interpreter": {
    "hash": "6fff98fc3b3d81bd655c2cc48858186e4d9e2db7b515bf1c3221888f12a62f87"
   }
  }
 },
 "nbformat": 4,
 "nbformat_minor": 2
}
