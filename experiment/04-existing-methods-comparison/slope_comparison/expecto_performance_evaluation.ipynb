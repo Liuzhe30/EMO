{
 "cells": [
  {
   "cell_type": "markdown",
   "metadata": {},
   "source": [
    "#### prediction performance of Expecto"
   ]
  },
  {
   "cell_type": "code",
   "execution_count": 1,
   "metadata": {},
   "outputs": [],
   "source": [
    "import numpy as np\n",
    "from sklearn.metrics import mean_squared_error\n",
    "from scipy.stats import pearsonr\n",
    "from prettytable import PrettyTable\n",
    "import pandas as pd"
   ]
  },
  {
   "cell_type": "code",
   "execution_count": 2,
   "metadata": {},
   "outputs": [],
   "source": [
    "result_path = '../../../datasets/tissue_specific/expecto_results/'\n",
    "origin_path = '../../../datasets/tissue_specific/'\n",
    "\n",
    "compare_tissue_list = ['Adipose_Subcutaneous','Artery_Tibial','Breast_Mammary_Tissue','Colon_Transverse','Nerve_Tibial','Thyroid']\n",
    "compare_tissue_list2 = ['Adipose Subcutaneous','Artery Tibial','Breast Mammary Tissue','Colon Transverse','Nerve Tibial','Thyroid | GTEx']\n",
    "model_size_list = ['small','middle']"
   ]
  },
  {
   "cell_type": "code",
   "execution_count": 3,
   "metadata": {},
   "outputs": [
    {
     "name": "stdout",
     "output_type": "stream",
     "text": [
      "tissue:  Adipose_Subcutaneous\n",
      "model size:  small\n",
      "+---------+--------+\n",
      "|   PCC   |  MSE   |\n",
      "+---------+--------+\n",
      "| -0.3435 | 0.5923 |\n",
      "+---------+--------+\n",
      "tissue:  Adipose_Subcutaneous\n",
      "model size:  middle\n",
      "+--------+--------+\n",
      "|  PCC   |  MSE   |\n",
      "+--------+--------+\n",
      "| 0.0789 | 0.5755 |\n",
      "+--------+--------+\n",
      "tissue:  Artery_Tibial\n",
      "model size:  small\n",
      "+---------+--------+\n",
      "|   PCC   |  MSE   |\n",
      "+---------+--------+\n",
      "| -0.0674 | 0.6042 |\n",
      "+---------+--------+\n",
      "tissue:  Artery_Tibial\n",
      "model size:  middle\n",
      "+---------+--------+\n",
      "|   PCC   |  MSE   |\n",
      "+---------+--------+\n",
      "| -0.0347 | 0.4985 |\n",
      "+---------+--------+\n",
      "tissue:  Breast_Mammary_Tissue\n",
      "model size:  small\n",
      "+---------+--------+\n",
      "|   PCC   |  MSE   |\n",
      "+---------+--------+\n",
      "| -0.4582 | 0.7508 |\n",
      "+---------+--------+\n",
      "tissue:  Breast_Mammary_Tissue\n",
      "model size:  middle\n",
      "+---------+--------+\n",
      "|   PCC   |  MSE   |\n",
      "+---------+--------+\n",
      "| -0.0152 | 0.5724 |\n",
      "+---------+--------+\n",
      "tissue:  Colon_Transverse\n",
      "model size:  small\n",
      "+---------+--------+\n",
      "|   PCC   |  MSE   |\n",
      "+---------+--------+\n",
      "| -0.1939 | 0.4374 |\n",
      "+---------+--------+\n",
      "tissue:  Colon_Transverse\n",
      "model size:  middle\n",
      "+---------+--------+\n",
      "|   PCC   |  MSE   |\n",
      "+---------+--------+\n",
      "| -0.0438 | 0.4130 |\n",
      "+---------+--------+\n",
      "tissue:  Nerve_Tibial\n",
      "model size:  small\n",
      "+--------+--------+\n",
      "|  PCC   |  MSE   |\n",
      "+--------+--------+\n",
      "| 0.0581 | 0.7787 |\n",
      "+--------+--------+\n",
      "tissue:  Nerve_Tibial\n",
      "model size:  middle\n",
      "+---------+--------+\n",
      "|   PCC   |  MSE   |\n",
      "+---------+--------+\n",
      "| -0.2425 | 0.4642 |\n",
      "+---------+--------+\n",
      "tissue:  Thyroid\n",
      "model size:  small\n",
      "+---------+--------+\n",
      "|   PCC   |  MSE   |\n",
      "+---------+--------+\n",
      "| -0.0965 | 0.5028 |\n",
      "+---------+--------+\n",
      "tissue:  Thyroid\n",
      "model size:  middle\n",
      "+---------+--------+\n",
      "|   PCC   |  MSE   |\n",
      "+---------+--------+\n",
      "| -0.2179 | 0.6071 |\n",
      "+---------+--------+\n"
     ]
    }
   ],
   "source": [
    "for i in range(6):\n",
    "    tissue_origin = compare_tissue_list[i]\n",
    "    tissue_pred = compare_tissue_list2[i]\n",
    "    for model_size in model_size_list:\n",
    "        origin_data = pd.read_pickle(origin_path + model_size + '/test_' + model_size + '_' + tissue_origin + '.pkl')[['phenotype_id','variant_id','tss_distance','slope','bulk']]\n",
    "        pred_data = pd.read_csv(result_path + 'test_' + model_size + '_' + tissue_origin + '.csv')\n",
    "        data_len = len(origin_data)\n",
    "        slope = np.array(origin_data['slope'])\n",
    "        y_score_middle = np.array(pred_data[tissue_pred][:data_len])\n",
    "        \n",
    "        pcc, _ = pearsonr(slope, y_score_middle)\n",
    "        mse = mean_squared_error(slope, y_score_middle)\n",
    "\n",
    "        print('tissue: ', tissue_origin)\n",
    "        print('model size: ', model_size)\n",
    "        table = PrettyTable(['PCC', 'MSE'])\n",
    "        table.add_row([f'{pcc:.4f}', f'{mse:.4f}'])\n",
    "        print(table)"
   ]
  }
 ],
 "metadata": {
  "kernelspec": {
   "display_name": "Python 3.9.12 64-bit",
   "language": "python",
   "name": "python3"
  },
  "language_info": {
   "codemirror_mode": {
    "name": "ipython",
    "version": 3
   },
   "file_extension": ".py",
   "mimetype": "text/x-python",
   "name": "python",
   "nbconvert_exporter": "python",
   "pygments_lexer": "ipython3",
   "version": "3.9.12"
  },
  "orig_nbformat": 4,
  "vscode": {
   "interpreter": {
    "hash": "6fff98fc3b3d81bd655c2cc48858186e4d9e2db7b515bf1c3221888f12a62f87"
   }
  }
 },
 "nbformat": 4,
 "nbformat_minor": 2
}
