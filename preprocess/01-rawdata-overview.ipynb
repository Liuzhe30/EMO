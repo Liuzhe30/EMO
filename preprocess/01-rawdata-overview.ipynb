{
 "cells": [
  {
   "cell_type": "markdown",
   "metadata": {},
   "source": [
    "### dataset overview & reader"
   ]
  },
  {
   "cell_type": "code",
   "execution_count": 2,
   "metadata": {},
   "outputs": [],
   "source": [
    "import numpy as np\n",
    "import os\n",
    "import pandas as pd\n",
    "\n",
    "# dataset path\n",
    "root_path = '/data/eqtl/rawdata/'"
   ]
  },
  {
   "cell_type": "markdown",
   "metadata": {},
   "source": [
    "#### 1 ATAC-bigwig reader"
   ]
  },
  {
   "cell_type": "code",
   "execution_count": 4,
   "metadata": {},
   "outputs": [
    {
     "name": "stdout",
     "output_type": "stream",
     "text": [
      "249250621\n"
     ]
    }
   ],
   "source": [
    "import pyBigWig\n",
    "pd.set_option('display.max_columns', None)\n",
    "\n",
    "atac_path = root_path + 'epimap_ATAC_tissue_new/'\n",
    "bw = pyBigWig.open(atac_path + \"Adipose_Subcutaneous.bigWig\")\n",
    "max_atac_len = int(bw.chroms(\"chr1\"))\n",
    "print(max_atac_len)"
   ]
  },
  {
   "cell_type": "code",
   "execution_count": 5,
   "metadata": {},
   "outputs": [
    {
     "name": "stdout",
     "output_type": "stream",
     "text": [
      "[0.38999998569488525, 0.38999998569488525, 0.38999998569488525]\n"
     ]
    }
   ],
   "source": [
    "atac_between = bw.values(\"chr1\", 0, 3)\n",
    "print(atac_between)"
   ]
  },
  {
   "cell_type": "markdown",
   "metadata": {},
   "source": [
    "#### 2 eQTL-parquet reader"
   ]
  },
  {
   "cell_type": "code",
   "execution_count": 8,
   "metadata": {},
   "outputs": [
    {
     "data": {
      "text/html": [
       "<div>\n",
       "<style scoped>\n",
       "    .dataframe tbody tr th:only-of-type {\n",
       "        vertical-align: middle;\n",
       "    }\n",
       "\n",
       "    .dataframe tbody tr th {\n",
       "        vertical-align: top;\n",
       "    }\n",
       "\n",
       "    .dataframe thead th {\n",
       "        text-align: right;\n",
       "    }\n",
       "</style>\n",
       "<table border=\"1\" class=\"dataframe\">\n",
       "  <thead>\n",
       "    <tr style=\"text-align: right;\">\n",
       "      <th></th>\n",
       "      <th>phenotype_id</th>\n",
       "      <th>variant_id</th>\n",
       "      <th>tss_distance</th>\n",
       "      <th>maf</th>\n",
       "      <th>ma_samples</th>\n",
       "      <th>ma_count</th>\n",
       "      <th>pval_nominal</th>\n",
       "      <th>slope</th>\n",
       "      <th>slope_se</th>\n",
       "    </tr>\n",
       "  </thead>\n",
       "  <tbody>\n",
       "    <tr>\n",
       "      <th>0</th>\n",
       "      <td>ENSG00000227232.5</td>\n",
       "      <td>chr1_13550_G_A_b38</td>\n",
       "      <td>-16003</td>\n",
       "      <td>0.017745</td>\n",
       "      <td>17</td>\n",
       "      <td>17</td>\n",
       "      <td>0.085908</td>\n",
       "      <td>0.391125</td>\n",
       "      <td>0.227194</td>\n",
       "    </tr>\n",
       "    <tr>\n",
       "      <th>1</th>\n",
       "      <td>ENSG00000227232.5</td>\n",
       "      <td>chr1_14671_G_C_b38</td>\n",
       "      <td>-14882</td>\n",
       "      <td>0.010438</td>\n",
       "      <td>10</td>\n",
       "      <td>10</td>\n",
       "      <td>0.013536</td>\n",
       "      <td>0.721950</td>\n",
       "      <td>0.291098</td>\n",
       "    </tr>\n",
       "    <tr>\n",
       "      <th>2</th>\n",
       "      <td>ENSG00000227232.5</td>\n",
       "      <td>chr1_14677_G_A_b38</td>\n",
       "      <td>-14876</td>\n",
       "      <td>0.057411</td>\n",
       "      <td>55</td>\n",
       "      <td>55</td>\n",
       "      <td>0.747506</td>\n",
       "      <td>-0.042696</td>\n",
       "      <td>0.132534</td>\n",
       "    </tr>\n",
       "    <tr>\n",
       "      <th>3</th>\n",
       "      <td>ENSG00000227232.5</td>\n",
       "      <td>chr1_16841_G_T_b38</td>\n",
       "      <td>-12712</td>\n",
       "      <td>0.046973</td>\n",
       "      <td>45</td>\n",
       "      <td>45</td>\n",
       "      <td>0.443785</td>\n",
       "      <td>-0.110564</td>\n",
       "      <td>0.144233</td>\n",
       "    </tr>\n",
       "    <tr>\n",
       "      <th>4</th>\n",
       "      <td>ENSG00000227232.5</td>\n",
       "      <td>chr1_17005_A_G_b38</td>\n",
       "      <td>-12548</td>\n",
       "      <td>0.018789</td>\n",
       "      <td>18</td>\n",
       "      <td>18</td>\n",
       "      <td>0.125834</td>\n",
       "      <td>-0.332625</td>\n",
       "      <td>0.216853</td>\n",
       "    </tr>\n",
       "  </tbody>\n",
       "</table>\n",
       "</div>"
      ],
      "text/plain": [
       "        phenotype_id          variant_id  tss_distance       maf  ma_samples   \n",
       "0  ENSG00000227232.5  chr1_13550_G_A_b38        -16003  0.017745          17  \\\n",
       "1  ENSG00000227232.5  chr1_14671_G_C_b38        -14882  0.010438          10   \n",
       "2  ENSG00000227232.5  chr1_14677_G_A_b38        -14876  0.057411          55   \n",
       "3  ENSG00000227232.5  chr1_16841_G_T_b38        -12712  0.046973          45   \n",
       "4  ENSG00000227232.5  chr1_17005_A_G_b38        -12548  0.018789          18   \n",
       "\n",
       "   ma_count  pval_nominal     slope  slope_se  \n",
       "0        17      0.085908  0.391125  0.227194  \n",
       "1        10      0.013536  0.721950  0.291098  \n",
       "2        55      0.747506 -0.042696  0.132534  \n",
       "3        45      0.443785 -0.110564  0.144233  \n",
       "4        18      0.125834 -0.332625  0.216853  "
      ]
     },
     "execution_count": 8,
     "metadata": {},
     "output_type": "execute_result"
    }
   ],
   "source": [
    "from pandas import read_parquet\n",
    "file_path = root_path + 'GTEx_Analysis_v8_EUR_eQTL_all_associations/Adipose_Subcutaneous/'\n",
    "data = read_parquet(file_path + 'GTEx_Analysis_v8_QTLs_GTEx_Analysis_v8_EUR_eQTL_all_associations_Adipose_Subcutaneous.v8.EUR.allpairs.chr1.parquet')\n",
    "data.head()"
   ]
  },
  {
   "cell_type": "code",
   "execution_count": 9,
   "metadata": {},
   "outputs": [
    {
     "name": "stdout",
     "output_type": "stream",
     "text": [
      "13511064\n"
     ]
    }
   ],
   "source": [
    "print(len(data))"
   ]
  },
  {
   "cell_type": "code",
   "execution_count": 10,
   "metadata": {},
   "outputs": [
    {
     "name": "stdout",
     "output_type": "stream",
     "text": [
      "           phenotype_id              variant_id  tss_distance       maf   \n",
      "0     ENSG00000227232.5      chr1_13550_G_A_b38        -16003  0.017745  \\\n",
      "1     ENSG00000227232.5      chr1_14671_G_C_b38        -14882  0.010438   \n",
      "2     ENSG00000227232.5      chr1_14677_G_A_b38        -14876  0.057411   \n",
      "3     ENSG00000227232.5      chr1_16841_G_T_b38        -12712  0.046973   \n",
      "4     ENSG00000227232.5      chr1_17005_A_G_b38        -12548  0.018789   \n",
      "...                 ...                     ...           ...       ...   \n",
      "3581  ENSG00000233084.2  chr1_248939109_C_A_b38          2528  0.019833   \n",
      "3582  ENSG00000233084.2  chr1_248942173_G_A_b38          5592  0.090814   \n",
      "3583  ENSG00000233084.2  chr1_248943823_C_G_b38          7242  0.014614   \n",
      "3584  ENSG00000233084.2  chr1_248944397_A_C_b38          7816  0.085595   \n",
      "3585  ENSG00000233084.2  chr1_248945104_C_T_b38          8523  0.021921   \n",
      "\n",
      "      ma_samples  ma_count  pval_nominal     slope  slope_se  \n",
      "0             17        17      0.085908  0.391125  0.227194  \n",
      "1             10        10      0.013536  0.721950  0.291098  \n",
      "2             55        55      0.747506 -0.042696  0.132534  \n",
      "3             45        45      0.443785 -0.110564  0.144233  \n",
      "4             18        18      0.125834 -0.332625  0.216853  \n",
      "...          ...       ...           ...       ...       ...  \n",
      "3581          19        19      0.618915 -0.110851  0.222696  \n",
      "3582          87        87      0.255921 -0.129234  0.113594  \n",
      "3583          14        14      0.670866 -0.109038  0.256400  \n",
      "3584          82        82      0.406931  0.093591  0.112738  \n",
      "3585          21        21      0.813833 -0.049518  0.210147  \n",
      "\n",
      "[13511064 rows x 9 columns]\n"
     ]
    }
   ],
   "source": [
    "print(data)"
   ]
  },
  {
   "cell_type": "markdown",
   "metadata": {},
   "source": [
    "#### GTEX bulk list"
   ]
  },
  {
   "cell_type": "code",
   "execution_count": 11,
   "metadata": {},
   "outputs": [
    {
     "name": "stdout",
     "output_type": "stream",
     "text": [
      "['Adipose_Subcutaneous', 'Adrenal_Gland', 'Artery_Tibial', 'Brain_Cerebellum', 'Brain_Cortex', 'Breast_Mammary_Tissue', 'Colon_Sigmoid', 'Colon_Transverse', 'Esophagus_Mucosa', 'Heart_Left_Ventricle', 'Liver', 'Nerve_Tibial', 'Ovary', 'Pancreas', 'Prostate', 'Spleen', 'Stomach', 'Testis', 'Thyroid']\n"
     ]
    }
   ],
   "source": [
    "bulk_list = []\n",
    "with open('gtex_list.txt') as file:\n",
    "    line = file.readline()\n",
    "    while line:\n",
    "        bulk_list.append(line.strip())\n",
    "        line = file.readline()\n",
    "print(bulk_list)"
   ]
  },
  {
   "cell_type": "code",
   "execution_count": null,
   "metadata": {},
   "outputs": [],
   "source": []
  }
 ],
 "metadata": {
  "kernelspec": {
   "display_name": "Python 3",
   "language": "python",
   "name": "python3"
  },
  "language_info": {
   "codemirror_mode": {
    "name": "ipython",
    "version": 3
   },
   "file_extension": ".py",
   "mimetype": "text/x-python",
   "name": "python",
   "nbconvert_exporter": "python",
   "pygments_lexer": "ipython3",
   "version": "3.9.16"
  },
  "vscode": {
   "interpreter": {
    "hash": "6fff98fc3b3d81bd655c2cc48858186e4d9e2db7b515bf1c3221888f12a62f87"
   }
  }
 },
 "nbformat": 4,
 "nbformat_minor": 2
}
