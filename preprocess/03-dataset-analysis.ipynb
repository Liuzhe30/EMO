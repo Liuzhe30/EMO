{
 "cells": [
  {
   "cell_type": "code",
   "execution_count": 1,
   "id": "2186c0bf",
   "metadata": {},
   "outputs": [],
   "source": [
    "import numpy as np\n",
    "import os\n",
    "import pandas as pd"
   ]
  },
  {
   "cell_type": "code",
   "execution_count": 2,
   "id": "f3c5a8f1",
   "metadata": {},
   "outputs": [],
   "source": [
    "# dataset path\n",
    "data_path_enhancer = '/data/eqtl/datasets/enhancer/'\n",
    "data_path_repressor = '/data/eqtl/datasets/repressor/'"
   ]
  },
  {
   "cell_type": "markdown",
   "id": "4e10e6a7",
   "metadata": {},
   "source": [
    "#### 1 seq distribution"
   ]
  },
  {
   "cell_type": "code",
   "execution_count": 4,
   "id": "dc5fffd0",
   "metadata": {},
   "outputs": [
    {
     "name": "stdout",
     "output_type": "stream",
     "text": [
      "['Adipose_Subcutaneous', 'Adrenal_Gland', 'Artery_Tibial', 'Brain_Cerebellum', 'Brain_Cortex', 'Breast_Mammary_Tissue', 'Colon_Sigmoid', 'Colon_Transverse', 'Esophagus_Mucosa', 'Heart_Left_Ventricle', 'Liver', 'Nerve_Tibial', 'Ovary', 'Pancreas', 'Prostate', 'Spleen', 'Stomach', 'Testis', 'Thyroid']\n",
      "{'1-1000': 2503, '1001-10000': 3275, '10001-100000': 5780, '100001-1000000': 2031}\n"
     ]
    }
   ],
   "source": [
    "len_dict1 = {'1-1000':0,'1001-10000':0,'10001-100000':0,'100001-1000000':0}\n",
    "# count enhancer sequence len\n",
    "with open(\"gtex_list.txt\") as r:\n",
    "    lines = r.readlines()\n",
    "    gtex_bulk_list = []\n",
    "    for line in lines:\n",
    "        gtex_bulk_list.append(line.strip())\n",
    "    print(gtex_bulk_list)\n",
    "    \n",
    "for bulk in gtex_bulk_list:\n",
    "    data = pd.read_pickle(data_path_enhancer + bulk + '.pkl')\n",
    "    for i in range(len(data)):        \n",
    "        tss_distance = abs(int(data['tss_distance'].values[i]))\n",
    "        #print(tss_distance)\n",
    "        if(tss_distance <= 1000):\n",
    "            len_dict1['1-1000'] += 1\n",
    "        elif(tss_distance > 1000 and tss_distance <= 10000):\n",
    "            len_dict1['1001-10000'] += 1\n",
    "        elif(tss_distance > 10000 and tss_distance <= 100000):\n",
    "            len_dict1['10001-100000'] += 1\n",
    "        elif(tss_distance > 100000 and tss_distance <= 1000000):\n",
    "            len_dict1['100001-1000000'] += 1\n",
    "        \n",
    "print(len_dict1)"
   ]
  },
  {
   "cell_type": "code",
   "execution_count": 6,
   "id": "6a62ce70",
   "metadata": {},
   "outputs": [
    {
     "name": "stdout",
     "output_type": "stream",
     "text": [
      "['Adipose_Subcutaneous', 'Adrenal_Gland', 'Artery_Tibial', 'Brain_Cerebellum', 'Brain_Cortex', 'Breast_Mammary_Tissue', 'Colon_Sigmoid', 'Colon_Transverse', 'Esophagus_Mucosa', 'Heart_Left_Ventricle', 'Liver', 'Nerve_Tibial', 'Ovary', 'Pancreas', 'Prostate', 'Spleen', 'Stomach', 'Testis', 'Thyroid']\n",
      "{'1-1000': 2262, '1001-10000': 3159, '10001-100000': 5426, '100001-1000000': 1468}\n"
     ]
    }
   ],
   "source": [
    "len_dict0 = {'1-1000':0,'1001-10000':0,'10001-100000':0,'100001-1000000':0}\n",
    "# count enhancer sequence len\n",
    "with open(\"gtex_list.txt\") as r:\n",
    "    lines = r.readlines()\n",
    "    gtex_bulk_list = []\n",
    "    for line in lines:\n",
    "        gtex_bulk_list.append(line.strip())\n",
    "    print(gtex_bulk_list)\n",
    "    \n",
    "for bulk in gtex_bulk_list:\n",
    "    data = pd.read_pickle(data_path_repressor + bulk + '.pkl')\n",
    "    for i in range(len(data)):        \n",
    "        tss_distance = abs(int(data['tss_distance'].values[i]))\n",
    "        #print(tss_distance)\n",
    "        if(tss_distance <= 1000):\n",
    "            len_dict0['1-1000'] += 1\n",
    "        elif(tss_distance > 1000 and tss_distance <= 10000):\n",
    "            len_dict0['1001-10000'] += 1\n",
    "        elif(tss_distance > 10000 and tss_distance <= 100000):\n",
    "            len_dict0['10001-100000'] += 1\n",
    "        elif(tss_distance > 100000 and tss_distance <= 1000000):\n",
    "            len_dict0['100001-1000000'] += 1\n",
    "        \n",
    "print(len_dict0)"
   ]
  },
  {
   "cell_type": "code",
   "execution_count": 7,
   "id": "be5074a6",
   "metadata": {},
   "outputs": [
    {
     "data": {
      "image/png": "[encoded data removed]",
      "text/plain": [
       "<Figure size 432x288 with 1 Axes>"
      ]
     },
     "metadata": {
      "needs_background": "light"
     },
     "output_type": "display_data"
    }
   ],
   "source": [
    "import matplotlib\n",
    "import matplotlib.pyplot as plt\n",
    "\n",
    "name_list = list(len_dict1.keys())\n",
    "num_list1 = list(len_dict1.values())\n",
    "num_list0 = list(len_dict0.values())  \n",
    "\n",
    "width = 0.2\n",
    "\n",
    "x = list(range(len(name_list)))\n",
    "plt.bar(x, num_list1, width = width,label = 'enhancer', color='#F08C55')\n",
    "\n",
    "for i in range(len(x)):\n",
    "    x[i] = x[i] + width\n",
    "\n",
    "plt.bar(x, num_list0, width = width,label = 'repressor',tick_label = name_list, color='#6EC8C8')\n",
    "plt.xticks(rotation=20)\n",
    "plt.legend(loc = 'best')\n",
    "plt.savefig(\"seq_dis_fix.png\", dpi=300, bbox_inches = 'tight')\n",
    "plt.show()"
   ]
  },
  {
   "cell_type": "markdown",
   "id": "3c4a4d92",
   "metadata": {},
   "source": [
    "#### 2 sample count"
   ]
  },
  {
   "cell_type": "code",
   "execution_count": 8,
   "id": "a828a09c",
   "metadata": {},
   "outputs": [
    {
     "name": "stdout",
     "output_type": "stream",
     "text": [
      "{'Adipose_Subcutaneous': 0, 'Adrenal_Gland': 0, 'Artery_Tibial': 0, 'Brain_Cerebellum': 0, 'Brain_Cortex': 0, 'Breast_Mammary_Tissue': 0, 'Colon_Sigmoid': 0, 'Colon_Transverse': 0, 'Esophagus_Mucosa': 0, 'Heart_Left_Ventricle': 0, 'Liver': 0, 'Nerve_Tibial': 0, 'Ovary': 0, 'Pancreas': 0, 'Prostate': 0, 'Spleen': 0, 'Stomach': 0, 'Testis': 0, 'Thyroid': 0}\n",
      "{'Adipose_Subcutaneous': 1202, 'Adrenal_Gland': 412, 'Artery_Tibial': 1228, 'Brain_Cerebellum': 654, 'Brain_Cortex': 428, 'Breast_Mammary_Tissue': 660, 'Colon_Sigmoid': 566, 'Colon_Transverse': 660, 'Esophagus_Mucosa': 715, 'Heart_Left_Ventricle': 715, 'Liver': 270, 'Nerve_Tibial': 1378, 'Ovary': 276, 'Pancreas': 577, 'Prostate': 366, 'Spleen': 580, 'Stomach': 494, 'Testis': 1041, 'Thyroid': 1367}\n"
     ]
    }
   ],
   "source": [
    "sample_dict1 = {}\n",
    "for item in gtex_bulk_list:\n",
    "    sample_dict1[item] = 0\n",
    "print(sample_dict1)\n",
    "\n",
    "for bulk in gtex_bulk_list:\n",
    "    data = pd.read_pickle(data_path_enhancer + bulk + '.pkl')\n",
    "    sample_dict1[bulk] += len(data)\n",
    "print(sample_dict1)"
   ]
  },
  {
   "cell_type": "code",
   "execution_count": 9,
   "id": "00909fd3",
   "metadata": {},
   "outputs": [
    {
     "name": "stdout",
     "output_type": "stream",
     "text": [
      "{'Adipose_Subcutaneous': 0, 'Adrenal_Gland': 0, 'Artery_Tibial': 0, 'Brain_Cerebellum': 0, 'Brain_Cortex': 0, 'Breast_Mammary_Tissue': 0, 'Colon_Sigmoid': 0, 'Colon_Transverse': 0, 'Esophagus_Mucosa': 0, 'Heart_Left_Ventricle': 0, 'Liver': 0, 'Nerve_Tibial': 0, 'Ovary': 0, 'Pancreas': 0, 'Prostate': 0, 'Spleen': 0, 'Stomach': 0, 'Testis': 0, 'Thyroid': 0}\n",
      "{'Adipose_Subcutaneous': 1097, 'Adrenal_Gland': 349, 'Artery_Tibial': 1066, 'Brain_Cerebellum': 593, 'Brain_Cortex': 405, 'Breast_Mammary_Tissue': 599, 'Colon_Sigmoid': 545, 'Colon_Transverse': 613, 'Esophagus_Mucosa': 648, 'Heart_Left_Ventricle': 648, 'Liver': 238, 'Nerve_Tibial': 1235, 'Ovary': 253, 'Pancreas': 567, 'Prostate': 313, 'Spleen': 520, 'Stomach': 440, 'Testis': 977, 'Thyroid': 1209}\n"
     ]
    }
   ],
   "source": [
    "sample_dict0 = {}\n",
    "for item in gtex_bulk_list:\n",
    "    sample_dict0[item] = 0\n",
    "print(sample_dict0)\n",
    "\n",
    "for bulk in gtex_bulk_list:\n",
    "    data = pd.read_pickle(data_path_repressor + bulk + '.pkl')\n",
    "    sample_dict0[bulk] += len(data)\n",
    "print(sample_dict0)"
   ]
  },
  {
   "cell_type": "code",
   "execution_count": 10,
   "id": "0f7b40da",
   "metadata": {},
   "outputs": [
    {
     "data": {
      "image/png": "[encoded data removed]",
      "text/plain": [
       "<Figure size 432x288 with 1 Axes>"
      ]
     },
     "metadata": {
      "needs_background": "light"
     },
     "output_type": "display_data"
    }
   ],
   "source": [
    "import matplotlib\n",
    "import matplotlib.pyplot as plt\n",
    "\n",
    "name_list = gtex_bulk_list\n",
    "num_list1 = list(sample_dict1.values())\n",
    "num_list0 = list(sample_dict0.values())  \n",
    "\n",
    "x_width = range(0,len(name_list))\n",
    "x2_width = [i+0.3 for i in x_width]\n",
    " \n",
    "plt.barh(x_width,num_list1,lw=0.5,fc=\"r\",height=0.3,label=\"enhancer\")\n",
    "plt.barh(x2_width,num_list0,lw=0.5,fc=\"b\",height=0.3,label=\"repressor\")\n",
    "plt.yticks(range(len(name_list)),name_list)\n",
    "\n",
    "#plt.xticks(rotation=20)\n",
    "plt.legend(loc = (0.74,0.69))\n",
    "plt.savefig(\"sample_count_fix.png\", dpi=300, bbox_inches = 'tight')\n",
    "plt.show()"
   ]
  },
  {
   "cell_type": "markdown",
   "id": "0befdf69",
   "metadata": {},
   "source": [
    "#### 3 split dataset analysis"
   ]
  },
  {
   "cell_type": "code",
   "execution_count": 3,
   "id": "7e1add1d",
   "metadata": {},
   "outputs": [
    {
     "name": "stdout",
     "output_type": "stream",
     "text": [
      "{'1-1000': 4302, '1001-10000': 5787, '10001-100000': 10058, '100001-1000000': 2892}\n"
     ]
    }
   ],
   "source": [
    "len_dict = {'1-1000':0,'1001-10000':0,'10001-100000':0,'100001-1000000':0}\n",
    "    \n",
    "\n",
    "data = pd.read_pickle('/data/eqtl/datasets/train.pkl')\n",
    "for i in range(len(data)):        \n",
    "    tss_distance = abs(int(data['tss_distance'].values[i]))\n",
    "    #print(tss_distance)\n",
    "    if(tss_distance < 1000):\n",
    "        len_dict['1-1000'] += 1\n",
    "    elif(tss_distance >= 1000 and tss_distance < 10000):\n",
    "        len_dict['1001-10000'] += 1\n",
    "    elif(tss_distance >= 10000 and tss_distance < 100000):\n",
    "        len_dict['10001-100000'] += 1\n",
    "    elif(tss_distance >= 100000 and tss_distance < 1000000):\n",
    "        len_dict['100001-1000000'] += 1\n",
    "        \n",
    "print(len_dict)"
   ]
  },
  {
   "cell_type": "code",
   "execution_count": 4,
   "id": "c364769c",
   "metadata": {},
   "outputs": [
    {
     "name": "stdout",
     "output_type": "stream",
     "text": [
      "{'1-1000': 462, '1001-10000': 642, '10001-100000': 1122, '100001-1000000': 344}\n"
     ]
    }
   ],
   "source": [
    "len_dict = {'1-1000':0,'1001-10000':0,'10001-100000':0,'100001-1000000':0}\n",
    "    \n",
    "\n",
    "data = pd.read_pickle('/data/eqtl/datasets/test.pkl')\n",
    "for i in range(len(data)):        \n",
    "    tss_distance = abs(int(data['tss_distance'].values[i]))\n",
    "    #print(tss_distance)\n",
    "    if(tss_distance < 1000):\n",
    "        len_dict['1-1000'] += 1\n",
    "    elif(tss_distance >= 1000 and tss_distance < 10000):\n",
    "        len_dict['1001-10000'] += 1\n",
    "    elif(tss_distance >= 10000 and tss_distance < 100000):\n",
    "        len_dict['10001-100000'] += 1\n",
    "    elif(tss_distance >= 100000 and tss_distance < 1000000):\n",
    "        len_dict['100001-1000000'] += 1\n",
    "        \n",
    "print(len_dict)"
   ]
  },
  {
   "cell_type": "code",
   "execution_count": 5,
   "id": "fdc3c49b",
   "metadata": {},
   "outputs": [
    {
     "name": "stdout",
     "output_type": "stream",
     "text": [
      "['Adipose_Subcutaneous', 'Adrenal_Gland', 'Artery_Tibial', 'Brain_Cerebellum', 'Brain_Cortex', 'Breast_Mammary_Tissue', 'Colon_Sigmoid', 'Colon_Transverse', 'Esophagus_Mucosa', 'Heart_Left_Ventricle', 'Liver', 'Nerve_Tibial', 'Ovary', 'Pancreas', 'Prostate', 'Spleen', 'Stomach', 'Testis', 'Thyroid']\n",
      "{'1-1000': 2243, '1001-10000': 2942, '10001-100000': 5191, '100001-1000000': 1685}\n"
     ]
    }
   ],
   "source": [
    "len_dict0 = {'1-1000':0,'1001-10000':0,'10001-100000':0,'100001-1000000':0}\n",
    "# count enhancer sequence len\n",
    "with open(\"gtex_list.txt\") as r:\n",
    "    lines = r.readlines()\n",
    "    gtex_bulk_list = []\n",
    "    for line in lines:\n",
    "        gtex_bulk_list.append(line.strip())\n",
    "    print(gtex_bulk_list)\n",
    "    \n",
    "for bulk in gtex_bulk_list:\n",
    "    data = pd.read_pickle('/data/eqtl/datasets/train/' + bulk + '.pkl')\n",
    "    for i in range(len(data)):        \n",
    "        tss_distance = abs(int(data['tss_distance'].values[i]))\n",
    "        #print(tss_distance)\n",
    "        if(tss_distance < 1000 and data['label'].values[i] == 1):\n",
    "            len_dict0['1-1000'] += 1\n",
    "        elif(tss_distance >= 1000 and tss_distance < 10000 and data['label'].values[i] == 1):\n",
    "            len_dict0['1001-10000'] += 1\n",
    "        elif(tss_distance >= 10000 and tss_distance < 100000 and data['label'].values[i] == 1):\n",
    "            len_dict0['10001-100000'] += 1\n",
    "        elif(tss_distance >= 100000 and tss_distance < 1000000 and data['label'].values[i] == 1):\n",
    "            len_dict0['100001-1000000'] += 1\n",
    "        \n",
    "print(len_dict0)"
   ]
  },
  {
   "cell_type": "code",
   "execution_count": 6,
   "id": "59459569",
   "metadata": {},
   "outputs": [
    {
     "name": "stdout",
     "output_type": "stream",
     "text": [
      "['Adipose_Subcutaneous', 'Adrenal_Gland', 'Artery_Tibial', 'Brain_Cerebellum', 'Brain_Cortex', 'Breast_Mammary_Tissue', 'Colon_Sigmoid', 'Colon_Transverse', 'Esophagus_Mucosa', 'Heart_Left_Ventricle', 'Liver', 'Nerve_Tibial', 'Ovary', 'Pancreas', 'Prostate', 'Spleen', 'Stomach', 'Testis', 'Thyroid']\n",
      "{'1-1000': 2059, '1001-10000': 2845, '10001-100000': 4867, '100001-1000000': 1207}\n"
     ]
    }
   ],
   "source": [
    "len_dict0 = {'1-1000':0,'1001-10000':0,'10001-100000':0,'100001-1000000':0}\n",
    "# count repressor sequence len\n",
    "with open(\"gtex_list.txt\") as r:\n",
    "    lines = r.readlines()\n",
    "    gtex_bulk_list = []\n",
    "    for line in lines:\n",
    "        gtex_bulk_list.append(line.strip())\n",
    "    print(gtex_bulk_list)\n",
    "    \n",
    "for bulk in gtex_bulk_list:\n",
    "    data = pd.read_pickle('/data/eqtl/datasets/train/' + bulk + '.pkl')\n",
    "    for i in range(len(data)):        \n",
    "        tss_distance = abs(int(data['tss_distance'].values[i]))\n",
    "        #print(tss_distance)\n",
    "        if(tss_distance < 1000 and data['label'].values[i] == 0):\n",
    "            len_dict0['1-1000'] += 1\n",
    "        elif(tss_distance >= 1000 and tss_distance < 10000 and data['label'].values[i] == 0):\n",
    "            len_dict0['1001-10000'] += 1\n",
    "        elif(tss_distance >= 10000 and tss_distance < 100000 and data['label'].values[i] == 0):\n",
    "            len_dict0['10001-100000'] += 1\n",
    "        elif(tss_distance >= 100000 and tss_distance < 1000000 and data['label'].values[i] == 0):\n",
    "            len_dict0['100001-1000000'] += 1\n",
    "        \n",
    "print(len_dict0)"
   ]
  },
  {
   "cell_type": "code",
   "execution_count": 7,
   "id": "7b6d29e8",
   "metadata": {},
   "outputs": [
    {
     "name": "stdout",
     "output_type": "stream",
     "text": [
      "['Adipose_Subcutaneous', 'Adrenal_Gland', 'Artery_Tibial', 'Brain_Cerebellum', 'Brain_Cortex', 'Breast_Mammary_Tissue', 'Colon_Sigmoid', 'Colon_Transverse', 'Esophagus_Mucosa', 'Heart_Left_Ventricle', 'Liver', 'Nerve_Tibial', 'Ovary', 'Pancreas', 'Prostate', 'Spleen', 'Stomach', 'Testis', 'Thyroid']\n",
      "{'1-1000': 260, '1001-10000': 328, '10001-100000': 579, '100001-1000000': 197}\n"
     ]
    }
   ],
   "source": [
    "len_dict0 = {'1-1000':0,'1001-10000':0,'10001-100000':0,'100001-1000000':0}\n",
    "# count enhancer sequence len\n",
    "with open(\"gtex_list.txt\") as r:\n",
    "    lines = r.readlines()\n",
    "    gtex_bulk_list = []\n",
    "    for line in lines:\n",
    "        gtex_bulk_list.append(line.strip())\n",
    "    print(gtex_bulk_list)\n",
    "    \n",
    "for bulk in gtex_bulk_list:\n",
    "    data = pd.read_pickle('/data/eqtl/datasets/test/' + bulk + '.pkl')\n",
    "    for i in range(len(data)):        \n",
    "        tss_distance = abs(int(data['tss_distance'].values[i]))\n",
    "        #print(tss_distance)\n",
    "        if(tss_distance < 1000 and data['label'].values[i] == 1):\n",
    "            len_dict0['1-1000'] += 1\n",
    "        elif(tss_distance >= 1000 and tss_distance < 10000 and data['label'].values[i] == 1):\n",
    "            len_dict0['1001-10000'] += 1\n",
    "        elif(tss_distance >= 10000 and tss_distance < 100000 and data['label'].values[i] == 1):\n",
    "            len_dict0['10001-100000'] += 1\n",
    "        elif(tss_distance >= 100000 and tss_distance < 1000000 and data['label'].values[i] == 1):\n",
    "            len_dict0['100001-1000000'] += 1\n",
    "        \n",
    "print(len_dict0)"
   ]
  },
  {
   "cell_type": "code",
   "execution_count": 8,
   "id": "d456cce1",
   "metadata": {},
   "outputs": [
    {
     "name": "stdout",
     "output_type": "stream",
     "text": [
      "['Adipose_Subcutaneous', 'Adrenal_Gland', 'Artery_Tibial', 'Brain_Cerebellum', 'Brain_Cortex', 'Breast_Mammary_Tissue', 'Colon_Sigmoid', 'Colon_Transverse', 'Esophagus_Mucosa', 'Heart_Left_Ventricle', 'Liver', 'Nerve_Tibial', 'Ovary', 'Pancreas', 'Prostate', 'Spleen', 'Stomach', 'Testis', 'Thyroid']\n",
      "{'1-1000': 202, '1001-10000': 314, '10001-100000': 543, '100001-1000000': 147}\n"
     ]
    }
   ],
   "source": [
    "len_dict0 = {'1-1000':0,'1001-10000':0,'10001-100000':0,'100001-1000000':0}\n",
    "# count repressor sequence len\n",
    "with open(\"gtex_list.txt\") as r:\n",
    "    lines = r.readlines()\n",
    "    gtex_bulk_list = []\n",
    "    for line in lines:\n",
    "        gtex_bulk_list.append(line.strip())\n",
    "    print(gtex_bulk_list)\n",
    "    \n",
    "for bulk in gtex_bulk_list:\n",
    "    data = pd.read_pickle('/data/eqtl/datasets/test/' + bulk + '.pkl')\n",
    "    for i in range(len(data)):        \n",
    "        tss_distance = abs(int(data['tss_distance'].values[i]))\n",
    "        #print(tss_distance)\n",
    "        if(tss_distance < 1000 and data['label'].values[i] == 0):\n",
    "            len_dict0['1-1000'] += 1\n",
    "        elif(tss_distance >= 1000 and tss_distance < 10000 and data['label'].values[i] == 0):\n",
    "            len_dict0['1001-10000'] += 1\n",
    "        elif(tss_distance >= 10000 and tss_distance < 100000 and data['label'].values[i] == 0):\n",
    "            len_dict0['10001-100000'] += 1\n",
    "        elif(tss_distance >= 100000 and tss_distance < 1000000 and data['label'].values[i] == 0):\n",
    "            len_dict0['100001-1000000'] += 1\n",
    "        \n",
    "print(len_dict0)"
   ]
  },
  {
   "cell_type": "code",
   "execution_count": 9,
   "id": "5f3b3ef5",
   "metadata": {},
   "outputs": [
    {
     "data": {
      "image/png": "[encoded data removed]",
      "text/plain": [
       "<Figure size 432x288 with 1 Axes>"
      ]
     },
     "metadata": {
      "needs_background": "light"
     },
     "output_type": "display_data"
    }
   ],
   "source": [
    "# clean sequence- new dict plot\n",
    "import matplotlib\n",
    "import matplotlib.pyplot as plt\n",
    "\n",
    "len_dict1 = {'1-1000': 2503, '1001-10000': 3270, '10001-100000': 5770, '100001-1000000': 1882}\n",
    "len_dict0 = {'1-1000': 2261, '1001-10000': 3159, '10001-100000': 5410, '100001-1000000': 1354}\n",
    "\n",
    "name_list = list(len_dict1.keys())\n",
    "num_list1 = list(len_dict1.values())\n",
    "num_list0 = list(len_dict0.values())  \n",
    "\n",
    "width = 0.2\n",
    "\n",
    "x = list(range(len(name_list)))\n",
    "plt.bar(x, num_list1, width = width,label = 'enhancer', color='#F08C55')\n",
    "\n",
    "for i in range(len(x)):\n",
    "    x[i] = x[i] + width\n",
    "\n",
    "plt.bar(x, num_list0, width = width,label = 'repressor',tick_label = name_list, color='#6EC8C8')\n",
    "plt.xticks(rotation=20)\n",
    "plt.legend(loc = 'best')\n",
    "plt.savefig(\"seq_dis_fix_seq.png\", dpi=300, bbox_inches = 'tight')\n",
    "plt.show()"
   ]
  },
  {
   "cell_type": "code",
   "execution_count": null,
   "id": "e458fc73",
   "metadata": {},
   "outputs": [],
   "source": []
  }
 ],
 "metadata": {
  "kernelspec": {
   "display_name": "Python 3 (ipykernel)",
   "language": "python",
   "name": "python3"
  },
  "language_info": {
   "codemirror_mode": {
    "name": "ipython",
    "version": 3
   },
   "file_extension": ".py",
   "mimetype": "text/x-python",
   "name": "python",
   "nbconvert_exporter": "python",
   "pygments_lexer": "ipython3",
   "version": "3.8.12"
  }
 },
 "nbformat": 4,
 "nbformat_minor": 5
}
