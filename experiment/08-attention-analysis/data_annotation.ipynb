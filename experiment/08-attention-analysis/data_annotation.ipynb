{
 "cells": [
  {
   "cell_type": "markdown",
   "source": [
    "## Data Annotation Pipline\n",
    "The non-coding regions of the designated regions of genes can be annotated through this process"
   ],
   "metadata": {
    "collapsed": false
   }
  },
  {
   "cell_type": "markdown",
   "source": [
    "start with test_small. Data analysis was performed. The analytical results are stored in the test_small_list"
   ],
   "metadata": {
    "collapsed": false
   }
  },
  {
   "cell_type": "code",
   "execution_count": 3,
   "metadata": {
    "collapsed": true,
    "ExecuteTime": {
     "end_time": "2023-07-24T08:56:51.528241Z",
     "start_time": "2023-07-24T08:56:51.503220800Z"
    }
   },
   "outputs": [
    {
     "data": {
      "text/plain": "{'chr': '19', 'pos': '3762700', 'ref': 'C', 'alt': 'T', 'tss_distance': 36}"
     },
     "execution_count": 3,
     "metadata": {},
     "output_type": "execute_result"
    }
   ],
   "source": [
    "import pandas as pd\n",
    "from tqdm import tqdm\n",
    "import pickle\n",
    "\n",
    "test_small = pd.read_pickle('datasets/small/test_small.pkl')\n",
    "test_small_list = []\n",
    "\n",
    "for _, row in test_small.iterrows():\n",
    "    test_small_list.append({'chr': row['variant_id'].split('_')[0][3:], 'pos': row['variant_id'].split('_')[1],\n",
    "                            'ref': row['variant_id'].split('_')[2],\n",
    "                            'alt': row['variant_id'].split('_')[3],\n",
    "                            'tss_distance': row['tss_distance'],\n",
    "                            'annotation': []})"
   ]
  },
  {
   "cell_type": "markdown",
   "source": [
    "Here is a list, in the same order as the original. Note that it may occur here that the regulation of the same gene differs in different cell lines"
   ],
   "metadata": {
    "collapsed": false
   }
  },
  {
   "cell_type": "markdown",
   "source": [
    "Annotate each gene below, the result of the annotation is stored in test_small_list. This is a single-threaded version"
   ],
   "metadata": {
    "collapsed": false
   }
  },
  {
   "cell_type": "code",
   "execution_count": null,
   "outputs": [],
   "source": [
    "regulation_annotation = pd.read_table('preprocess_data/regulation_annotation.tsv', sep='\\t')\n",
    "for test_item in tqdm(test_small_list):\n",
    "    for idx, row in regulation_annotation.iterrows():\n",
    "        if test_item['chr'] != row['Chromosome/scaffold name']:\n",
    "            continue  # skip if not same chromosome\n",
    "        slice_start = min(int(test_item['pos']), int(test_item['pos']) + test_item['tss_distance'])\n",
    "        slice_end = max(int(test_item['pos']), int(test_item['pos']) + test_item['tss_distance'])\n",
    "        overlap_start = max(slice_start, int(row['Start (bp)']))\n",
    "        overlap_end = min(slice_end, int(row['End (bp)']))\n",
    "        if overlap_start < overlap_end:\n",
    "            test_item['annotation'].append({'no': idx, 'start': overlap_start, 'end': overlap_end})"
   ],
   "metadata": {
    "collapsed": false
   }
  },
  {
   "cell_type": "markdown",
   "source": [
    "The final pickle needs to be aggregated and stored in test_small_annotation.pkl"
   ],
   "metadata": {
    "collapsed": false
   }
  },
  {
   "cell_type": "code",
   "execution_count": null,
   "outputs": [],
   "source": [
    "import copy\n",
    "total = 20\n",
    "slice_size = len(test_small_list) // total\n",
    "for i in tqdm(range(total)):\n",
    "    start_pos = i * slice_size\n",
    "    if i == total - 1:\n",
    "        end_pos = len(test_small_list)\n",
    "    else:\n",
    "        end_pos = (i + 1) * slice_size\n",
    "    input_file = open('preprocess_data/small/test_small_annotation_{}.pkl'.format(i), 'rb')\n",
    "    test_small_list_tmp = pickle.load(input_file)\n",
    "    input_file.close()\n",
    "    for j in range(start_pos, end_pos):\n",
    "        test_small_list[j]['annotation'] = copy.deepcopy(test_small_list_tmp[j - start_pos]['annotation'])\n",
    "out_file = open('preprocess_data/small/test_small_annotation.pkl', 'wb')\n",
    "pickle.dump(test_small_list, out_file)\n",
    "out_file.close()"
   ],
   "metadata": {
    "collapsed": false
   }
  },
  {
   "cell_type": "markdown",
   "source": [
    "Here is the test small annotation. PKL format"
   ],
   "metadata": {
    "collapsed": false
   }
  },
  {
   "cell_type": "code",
   "execution_count": 6,
   "outputs": [
    {
     "data": {
      "text/plain": "{'chr': '19',\n 'pos': '3762700',\n 'ref': 'C',\n 'alt': 'T',\n 'tss_distance': 36,\n 'annotation': [{'no': 455219, 'start': 3762700, 'end': 3762736}]}"
     },
     "execution_count": 6,
     "metadata": {},
     "output_type": "execute_result"
    }
   ],
   "source": [
    "import pickle\n",
    "input_file = open('preprocess_data/small/test_small_annotation.pkl', 'rb')\n",
    "test_small_list = pickle.load(input_file)\n",
    "input_file.close()\n",
    "test_small_list[0]"
   ],
   "metadata": {
    "collapsed": false,
    "ExecuteTime": {
     "end_time": "2023-07-25T03:25:37.452368Z",
     "start_time": "2023-07-25T03:25:37.410068400Z"
    }
   }
  },
  {
   "cell_type": "markdown",
   "source": [
    "The sequence length and the position of the annotation relative to the sequence need to be added"
   ],
   "metadata": {
    "collapsed": false
   }
  },
  {
   "cell_type": "code",
   "execution_count": 13,
   "outputs": [
    {
     "data": {
      "text/plain": "{'chr': '19',\n 'pos': '45179662',\n 'ref': 'C',\n 'alt': 'T',\n 'tss_distance': 917,\n 'annotation': [{'no': 483931,\n   'start': 45179662,\n   'end': 45180579,\n   'start_rel': 0,\n   'end_rel': 917}],\n 'seq_len': 918}"
     },
     "execution_count": 13,
     "metadata": {},
     "output_type": "execute_result"
    }
   ],
   "source": [
    "for item in test_small_list:\n",
    "    item['seq_len'] = abs(item['tss_distance']) + 1\n",
    "    for i in item['annotation']:\n",
    "        i['start_rel'] = i['start'] - min(int(item['pos']), int(item['pos']) + item['tss_distance'])\n",
    "        i['end_rel'] = i['end'] - min(int(item['pos']), int(item['pos']) + item['tss_distance'])\n",
    "out_file = open('preprocess_data/small/test_small_annotation.pkl', 'wb')\n",
    "pickle.dump(test_small_list, out_file)\n",
    "out_file.close()\n",
    "test_small_list[54]"
   ],
   "metadata": {
    "collapsed": false,
    "ExecuteTime": {
     "end_time": "2023-07-26T07:10:11.052368900Z",
     "start_time": "2023-07-26T07:10:11.009227500Z"
    }
   }
  }
 ],
 "metadata": {
  "kernelspec": {
   "display_name": "Python 3",
   "language": "python",
   "name": "python3"
  },
  "language_info": {
   "codemirror_mode": {
    "name": "ipython",
    "version": 2
   },
   "file_extension": ".py",
   "mimetype": "text/x-python",
   "name": "python",
   "nbconvert_exporter": "python",
   "pygments_lexer": "ipython2",
   "version": "2.7.6"
  }
 },
 "nbformat": 4,
 "nbformat_minor": 0
}
