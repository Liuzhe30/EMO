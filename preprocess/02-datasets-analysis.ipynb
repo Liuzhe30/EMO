{
 "cells": [
  {
   "cell_type": "code",
   "execution_count": 1,
   "id": "9bdf6222",
   "metadata": {},
   "outputs": [],
   "source": [
    "import numpy as np\n",
    "import os\n",
    "import pandas as pd"
   ]
  },
  {
   "cell_type": "code",
   "execution_count": 2,
   "id": "d290cba4",
   "metadata": {},
   "outputs": [],
   "source": [
    "# dataset path\n",
    "data_path_enhancer = '/data/eqtl/3_ATAC_0.9_1/'\n",
    "data_path_repressor = '/data/eqtl/3_ATAC_0.9_0/'"
   ]
  },
  {
   "cell_type": "markdown",
   "id": "44cc054b",
   "metadata": {},
   "source": [
    "#### 1 seq distribution "
   ]
  },
  {
   "cell_type": "code",
   "execution_count": 8,
   "id": "4b95ab09",
   "metadata": {},
   "outputs": [
    {
     "name": "stdout",
     "output_type": "stream",
     "text": [
      "['Adipose_Subcutaneous', 'Adrenal_Gland', 'Artery_Tibial', 'Brain_Cerebellum', 'Brain_Cortex', 'Breast_Mammary_Tissue', 'Colon_Sigmoid', 'Colon_Transverse', 'Esophagus_Mucosa', 'Heart_Left_Ventricle', 'Liver', 'Nerve_Tibial', 'Ovary', 'Pancreas', 'Prostate', 'Spleen', 'Stomach', 'Testis', 'Thyroid']\n",
      "{'1-1000': 3229, '1001-10000': 9577, '10001-100000': 27461, '100001-1000000': 8900, '1000000+': 0}\n"
     ]
    }
   ],
   "source": [
    "len_dict1 = {'1-1000':0,'1001-10000':0,'10001-100000':0,'100001-1000000':0,'1000000+':0}\n",
    "# count enhancer sequence len\n",
    "with open(\"gtex_list.txt\") as r:\n",
    "    lines = r.readlines()\n",
    "    gtex_bulk_list = []\n",
    "    for line in lines:\n",
    "        gtex_bulk_list.append(line.strip())\n",
    "    print(gtex_bulk_list)\n",
    "    \n",
    "for bulk in gtex_bulk_list:\n",
    "    for chr_no in range(1, 23):\n",
    "        data = pd.read_pickle(data_path_enhancer + bulk + '_' + str(chr_no) + '.pkl')\n",
    "        for i in range(len(data)):        \n",
    "            tss_distance = abs(int(data['tss_distance'].values[i]))\n",
    "            #print(tss_distance)\n",
    "            if(tss_distance <= 1000):\n",
    "                len_dict1['1-1000'] += 1\n",
    "            elif(tss_distance > 1000 and tss_distance <= 10000):\n",
    "                len_dict1['1001-10000'] += 1\n",
    "            elif(tss_distance > 10000 and tss_distance <= 100000):\n",
    "                len_dict1['10001-100000'] += 1\n",
    "            elif(tss_distance > 100000 and tss_distance <= 1000000):\n",
    "                len_dict1['100001-1000000'] += 1\n",
    "            else:\n",
    "                len_dict1['1000000+'] += 1\n",
    "        \n",
    "print(len_dict1)"
   ]
  },
  {
   "cell_type": "code",
   "execution_count": 9,
   "id": "02ed3376",
   "metadata": {},
   "outputs": [
    {
     "name": "stdout",
     "output_type": "stream",
     "text": [
      "['Adipose_Subcutaneous', 'Adrenal_Gland', 'Artery_Tibial', 'Brain_Cerebellum', 'Brain_Cortex', 'Breast_Mammary_Tissue', 'Colon_Sigmoid', 'Colon_Transverse', 'Esophagus_Mucosa', 'Heart_Left_Ventricle', 'Liver', 'Nerve_Tibial', 'Ovary', 'Pancreas', 'Prostate', 'Spleen', 'Stomach', 'Testis', 'Thyroid']\n",
      "{'1-1000': 2937, '1001-10000': 8977, '10001-100000': 25642, '100001-1000000': 7240, '1000000+': 0}\n"
     ]
    }
   ],
   "source": [
    "len_dict0 = {'1-1000':0,'1001-10000':0,'10001-100000':0,'100001-1000000':0,'1000000+':0}\n",
    "# count repressor sequence len\n",
    "with open(\"gtex_list.txt\") as r:\n",
    "    lines = r.readlines()\n",
    "    gtex_bulk_list = []\n",
    "    for line in lines:\n",
    "        gtex_bulk_list.append(line.strip())\n",
    "    print(gtex_bulk_list)\n",
    "    \n",
    "for bulk in gtex_bulk_list:\n",
    "    for chr_no in range(1, 23):\n",
    "        data = pd.read_pickle(data_path_repressor + bulk + '_' + str(chr_no) + '.pkl')\n",
    "        for i in range(len(data)):        \n",
    "            tss_distance = abs(int(data['tss_distance'].values[i]))\n",
    "            #print(tss_distance)\n",
    "            if(tss_distance <= 1000):\n",
    "                len_dict0['1-1000'] += 1\n",
    "            elif(tss_distance > 1000 and tss_distance <= 10000):\n",
    "                len_dict0['1001-10000'] += 1\n",
    "            elif(tss_distance > 10000 and tss_distance <= 100000):\n",
    "                len_dict0['10001-100000'] += 1\n",
    "            elif(tss_distance > 100000 and tss_distance <= 1000000):\n",
    "                len_dict0['100001-1000000'] += 1\n",
    "            else:\n",
    "                len_dict0['1000000+'] += 1\n",
    "        \n",
    "print(len_dict0)"
   ]
  },
  {
   "cell_type": "code",
   "execution_count": 36,
   "id": "48cc1188",
   "metadata": {},
   "outputs": [
    {
     "data": {
      "image/png": "[encoded data removed]",
      "text/plain": [
       "<Figure size 432x288 with 1 Axes>"
      ]
     },
     "metadata": {
      "needs_background": "light"
     },
     "output_type": "display_data"
    }
   ],
   "source": [
    "import matplotlib\n",
    "import matplotlib.pyplot as plt\n",
    "\n",
    "name_list = list(len_dict1.keys())\n",
    "num_list1 = list(len_dict1.values())\n",
    "num_list0 = list(len_dict0.values())  \n",
    "\n",
    "width = 0.2\n",
    "\n",
    "x = list(range(len(name_list)))\n",
    "plt.bar(x, num_list1, width = width,label = 'enhancer', color='#F08C55')\n",
    "\n",
    "for i in range(len(x)):\n",
    "    x[i] = x[i] + width\n",
    "\n",
    "plt.bar(x, num_list0, width = width,label = 'repressor',tick_label = name_list, color='#6EC8C8')\n",
    "plt.xticks(rotation=20)\n",
    "plt.legend(loc = 'best')\n",
    "plt.savefig(\"seq_dis.png\", dpi=300, bbox_inches = 'tight')\n",
    "plt.show()"
   ]
  },
  {
   "cell_type": "markdown",
   "id": "25fb2a64",
   "metadata": {},
   "source": [
    "#### 2 sample count"
   ]
  },
  {
   "cell_type": "code",
   "execution_count": 29,
   "id": "45a057ef",
   "metadata": {},
   "outputs": [
    {
     "name": "stdout",
     "output_type": "stream",
     "text": [
      "{'Adipose_Subcutaneous': 0, 'Adrenal_Gland': 0, 'Artery_Tibial': 0, 'Brain_Cerebellum': 0, 'Brain_Cortex': 0, 'Breast_Mammary_Tissue': 0, 'Colon_Sigmoid': 0, 'Colon_Transverse': 0, 'Esophagus_Mucosa': 0, 'Heart_Left_Ventricle': 0, 'Liver': 0, 'Nerve_Tibial': 0, 'Ovary': 0, 'Pancreas': 0, 'Prostate': 0, 'Spleen': 0, 'Stomach': 0, 'Testis': 0, 'Thyroid': 0}\n",
      "{'Adipose_Subcutaneous': 1202, 'Adrenal_Gland': 412, 'Artery_Tibial': 1228, 'Brain_Cerebellum': 654, 'Brain_Cortex': 428, 'Breast_Mammary_Tissue': 660, 'Colon_Sigmoid': 566, 'Colon_Transverse': 660, 'Esophagus_Mucosa': 22250, 'Heart_Left_Ventricle': 14758, 'Liver': 270, 'Nerve_Tibial': 1378, 'Ovary': 276, 'Pancreas': 577, 'Prostate': 366, 'Spleen': 580, 'Stomach': 494, 'Testis': 1041, 'Thyroid': 1367}\n"
     ]
    }
   ],
   "source": [
    "sample_dict1 = {}\n",
    "for item in gtex_bulk_list:\n",
    "    sample_dict1[item] = 0\n",
    "print(sample_dict1)\n",
    "\n",
    "for bulk in gtex_bulk_list:\n",
    "    for chr_no in range(1, 23):\n",
    "        data = pd.read_pickle(data_path_enhancer + bulk + '_' + str(chr_no) + '.pkl')\n",
    "        sample_dict1[bulk] += len(data)\n",
    "print(sample_dict1)"
   ]
  },
  {
   "cell_type": "code",
   "execution_count": 30,
   "id": "d9fd4294",
   "metadata": {},
   "outputs": [
    {
     "name": "stdout",
     "output_type": "stream",
     "text": [
      "{'Adipose_Subcutaneous': 0, 'Adrenal_Gland': 0, 'Artery_Tibial': 0, 'Brain_Cerebellum': 0, 'Brain_Cortex': 0, 'Breast_Mammary_Tissue': 0, 'Colon_Sigmoid': 0, 'Colon_Transverse': 0, 'Esophagus_Mucosa': 0, 'Heart_Left_Ventricle': 0, 'Liver': 0, 'Nerve_Tibial': 0, 'Ovary': 0, 'Pancreas': 0, 'Prostate': 0, 'Spleen': 0, 'Stomach': 0, 'Testis': 0, 'Thyroid': 0}\n",
      "{'Adipose_Subcutaneous': 1097, 'Adrenal_Gland': 349, 'Artery_Tibial': 1066, 'Brain_Cerebellum': 593, 'Brain_Cortex': 405, 'Breast_Mammary_Tissue': 599, 'Colon_Sigmoid': 545, 'Colon_Transverse': 613, 'Esophagus_Mucosa': 20869, 'Heart_Left_Ventricle': 12908, 'Liver': 238, 'Nerve_Tibial': 1235, 'Ovary': 253, 'Pancreas': 567, 'Prostate': 313, 'Spleen': 520, 'Stomach': 440, 'Testis': 977, 'Thyroid': 1209}\n"
     ]
    }
   ],
   "source": [
    "sample_dict0 = {}\n",
    "for item in gtex_bulk_list:\n",
    "    sample_dict0[item] = 0\n",
    "print(sample_dict0)\n",
    "\n",
    "for bulk in gtex_bulk_list:\n",
    "    for chr_no in range(1, 23):\n",
    "        data = pd.read_pickle(data_path_repressor + bulk + '_' + str(chr_no) + '.pkl')\n",
    "        sample_dict0[bulk] += len(data)\n",
    "print(sample_dict0)"
   ]
  },
  {
   "cell_type": "code",
   "execution_count": 38,
   "id": "3f45b064",
   "metadata": {},
   "outputs": [
    {
     "data": {
      "image/png": "[encoded data removed]",
      "text/plain": [
       "<Figure size 432x288 with 1 Axes>"
      ]
     },
     "metadata": {
      "needs_background": "light"
     },
     "output_type": "display_data"
    }
   ],
   "source": [
    "import matplotlib\n",
    "import matplotlib.pyplot as plt\n",
    "\n",
    "name_list = gtex_bulk_list\n",
    "num_list1 = list(sample_dict1.values())\n",
    "num_list0 = list(sample_dict0.values())  \n",
    "\n",
    "x_width = range(0,len(name_list))\n",
    "x2_width = [i+0.3 for i in x_width]\n",
    " \n",
    "plt.barh(x_width,num_list1,lw=0.5,fc=\"r\",height=0.3,label=\"enhancer\")\n",
    "plt.barh(x2_width,num_list0,lw=0.5,fc=\"b\",height=0.3,label=\"repressor\")\n",
    "plt.yticks(range(len(name_list)),name_list)\n",
    "\n",
    "#plt.xticks(rotation=20)\n",
    "plt.legend(loc = 'best')\n",
    "plt.savefig(\"sample_count.png\", dpi=300, bbox_inches = 'tight')\n",
    "plt.show()"
   ]
  },
  {
   "cell_type": "code",
   "execution_count": null,
   "id": "507cac18",
   "metadata": {},
   "outputs": [],
   "source": []
  }
 ],
 "metadata": {
  "kernelspec": {
   "display_name": "Python 3 (ipykernel)",
   "language": "python",
   "name": "python3"
  },
  "language_info": {
   "codemirror_mode": {
    "name": "ipython",
    "version": 3
   },
   "file_extension": ".py",
   "mimetype": "text/x-python",
   "name": "python",
   "nbconvert_exporter": "python",
   "pygments_lexer": "ipython3",
   "version": "3.8.12"
  }
 },
 "nbformat": 4,
 "nbformat_minor": 5
}
