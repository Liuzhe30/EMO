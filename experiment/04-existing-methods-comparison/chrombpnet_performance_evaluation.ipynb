{
 "cells": [
  {
   "cell_type": "markdown",
   "metadata": {},
   "source": [
    "#### prediction performance of ChromBPNet"
   ]
  },
  {
   "cell_type": "code",
   "execution_count": 1,
   "metadata": {},
   "outputs": [],
   "source": [
    "import numpy as np\n",
    "from tensorflow.keras.utils import to_categorical\n",
    "from sklearn.metrics import precision_score, accuracy_score,recall_score, f1_score\n",
    "import matplotlib.pyplot as plt\n",
    "%matplotlib inline\n",
    "from sklearn.metrics import roc_curve, auc\n",
    "from prettytable import PrettyTable"
   ]
  },
  {
   "cell_type": "code",
   "execution_count": 2,
   "metadata": {},
   "outputs": [],
   "source": [
    "result_path = '../../datasets/tissue_specific/chrombpnet_prediction_results/'\n",
    "\n",
    "compare_tissue_list = ['Adipose_Subcutaneous','Artery_Tibial','Breast_Mammary_Tissue','Colon_Transverse','Nerve_Tibial','Thyroid']\n",
    "model_size_list = ['small']"
   ]
  },
  {
   "cell_type": "code",
   "execution_count": 3,
   "metadata": {},
   "outputs": [
    {
     "name": "stdout",
     "output_type": "stream",
     "text": [
      "tissue:  Adipose_Subcutaneous\n",
      "model size:  small\n",
      "+-------+-----------+--------+----------+-------+\n",
      "|  ACC  | Precision | Recall | F1-score |  AUC  |\n",
      "+-------+-----------+--------+----------+-------+\n",
      "| 0.432 |    0.5    | 0.524  |  0.512   | 0.438 |\n",
      "+-------+-----------+--------+----------+-------+\n",
      "tissue:  Artery_Tibial\n",
      "model size:  small\n",
      "+-------+-----------+--------+----------+-------+\n",
      "|  ACC  | Precision | Recall | F1-score |  AUC  |\n",
      "+-------+-----------+--------+----------+-------+\n",
      "| 0.465 |    0.5    | 0.522  |  0.511   | 0.437 |\n",
      "+-------+-----------+--------+----------+-------+\n",
      "tissue:  Breast_Mammary_Tissue\n",
      "model size:  small\n",
      "+-------+-----------+--------+----------+-------+\n",
      "|  ACC  | Precision | Recall | F1-score |  AUC  |\n",
      "+-------+-----------+--------+----------+-------+\n",
      "| 0.435 |   0.571   | 0.533  |  0.552   | 0.342 |\n",
      "+-------+-----------+--------+----------+-------+\n",
      "tissue:  Colon_Transverse\n",
      "model size:  small\n",
      "+-------+-----------+--------+----------+-------+\n",
      "|  ACC  | Precision | Recall | F1-score |  AUC  |\n",
      "+-------+-----------+--------+----------+-------+\n",
      "| 0.406 |    0.35   | 0.538  |  0.424   | 0.405 |\n",
      "+-------+-----------+--------+----------+-------+\n",
      "tissue:  Nerve_Tibial\n",
      "model size:  small\n",
      "+-------+-----------+--------+----------+-------+\n",
      "|  ACC  | Precision | Recall | F1-score |  AUC  |\n",
      "+-------+-----------+--------+----------+-------+\n",
      "| 0.429 |    0.5    |  0.45  |  0.474   | 0.453 |\n",
      "+-------+-----------+--------+----------+-------+\n",
      "tissue:  Thyroid\n",
      "model size:  small\n",
      "+-----+-----------+--------+----------+-------+\n",
      "| ACC | Precision | Recall | F1-score |  AUC  |\n",
      "+-----+-----------+--------+----------+-------+\n",
      "| 0.6 |   0.652   |  0.6   |  0.625   | 0.604 |\n",
      "+-----+-----------+--------+----------+-------+\n"
     ]
    }
   ],
   "source": [
    "for tissue in compare_tissue_list:\n",
    "    for model_size in model_size_list:\n",
    "        label = np.load(result_path + model_size + '_' + tissue + '_label.npy')\n",
    "        y_score = np.load(result_path + model_size + '_' + tissue + '_score.npy')\n",
    "        y_score_pro = np.load(result_path + model_size + '_' + tissue + '_score_pro.npy')\n",
    "        y_one_hot = to_categorical(label)\n",
    "        y_score_one_hot = to_categorical(y_score)\n",
    "\n",
    "        acc = np.round(accuracy_score(label, y_score),3)\n",
    "        precision = np.round(precision_score(label, y_score),3)\n",
    "        recall = np.round(recall_score(label, y_score),3)\n",
    "        f1 = np.round(f1_score(label, y_score),3)\n",
    "        fpr, tpr, thresholds = roc_curve(y_one_hot.ravel(),y_score_pro.ravel()) \n",
    "        auc_ = np.round(auc(fpr, tpr),3)\n",
    "\n",
    "        print('tissue: ', tissue)\n",
    "        print('model size: ', model_size)\n",
    "        table = PrettyTable(['ACC','Precision','Recall','F1-score','AUC'])\n",
    "        table.add_row([acc,precision,recall,f1,auc_])\n",
    "        print(table)"
   ]
  }
 ],
 "metadata": {
  "kernelspec": {
   "display_name": "Python 3.9.12 64-bit",
   "language": "python",
   "name": "python3"
  },
  "language_info": {
   "codemirror_mode": {
    "name": "ipython",
    "version": 3
   },
   "file_extension": ".py",
   "mimetype": "text/x-python",
   "name": "python",
   "nbconvert_exporter": "python",
   "pygments_lexer": "ipython3",
   "version": "3.9.12"
  },
  "orig_nbformat": 4,
  "vscode": {
   "interpreter": {
    "hash": "6fff98fc3b3d81bd655c2cc48858186e4d9e2db7b515bf1c3221888f12a62f87"
   }
  }
 },
 "nbformat": 4,
 "nbformat_minor": 2
}
