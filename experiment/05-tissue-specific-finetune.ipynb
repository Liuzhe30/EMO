{
 "cells": [
  {
   "cell_type": "code",
   "execution_count": 1,
   "metadata": {},
   "outputs": [],
   "source": [
    "import numpy as np\n",
    "import pandas as pd\n",
    "from tensorflow.keras.utils import to_categorical\n",
    "from sklearn.metrics import confusion_matrix, precision_score, accuracy_score,recall_score, f1_score,roc_auc_score\n",
    "import seaborn as sns\n",
    "import matplotlib.pyplot as plt\n",
    "%matplotlib inline\n",
    "from sklearn.metrics import roc_curve, auc"
   ]
  },
  {
   "cell_type": "code",
   "execution_count": 2,
   "metadata": {},
   "outputs": [
    {
     "name": "stdout",
     "output_type": "stream",
     "text": [
      "\n",
      "\n",
      "Adipose_Subcutaneous\n",
      "accuracy:0.7948717948717948\n",
      "precision:0.8181818181818182\n",
      "recall:0.8181818181818182\n",
      "f1-score:0.8181818181818182\n",
      "AUC :  0.9076265614727154\n",
      "\n",
      "\n",
      "Artery_Tibial\n",
      "accuracy:0.8\n",
      "precision:0.8260869565217391\n",
      "recall:0.7916666666666666\n",
      "f1-score:0.8085106382978724\n",
      "AUC :  0.8567901234567901\n",
      "\n",
      "\n",
      "Breast_Mammary_Tissue\n",
      "accuracy:0.9583333333333334\n",
      "precision:0.9411764705882353\n",
      "recall:1.0\n",
      "f1-score:0.9696969696969697\n",
      "AUC :  0.9670138888888888\n",
      "\n",
      "\n",
      "Colon_Transverse\n",
      "accuracy:0.9696969696969697\n",
      "precision:0.9333333333333333\n",
      "recall:1.0\n",
      "f1-score:0.9655172413793104\n",
      "AUC :  0.9935720844811754\n",
      "\n",
      "\n",
      "Nerve_Tibial\n",
      "accuracy:0.8918918918918919\n",
      "precision:0.9047619047619048\n",
      "recall:0.9047619047619048\n",
      "f1-score:0.9047619047619048\n",
      "AUC :  0.8685171658144631\n",
      "\n",
      "\n",
      "Testis\n",
      "accuracy:0.7608695652173914\n",
      "precision:0.8\n",
      "recall:0.7692307692307693\n",
      "f1-score:0.7843137254901961\n",
      "AUC :  0.7901701323251418\n",
      "\n",
      "\n",
      "Thyroid\n",
      "accuracy:0.9347826086956522\n",
      "precision:0.9259259259259259\n",
      "recall:0.9615384615384616\n",
      "f1-score:0.9433962264150944\n",
      "AUC :  0.9536862003780718\n"
     ]
    }
   ],
   "source": [
    "# small model (finetune)\n",
    "tissue_list = ['Adipose_Subcutaneous','Artery_Tibial','Breast_Mammary_Tissue','Colon_Transverse','Nerve_Tibial','Testis','Thyroid']\n",
    "model_size = 'small'\n",
    "for tissue in tissue_list:\n",
    "\n",
    "    print('\\n')\n",
    "    print(tissue)\n",
    "    y_true = np.load('../model/pred_results_finetune/' + model_size + '_' + tissue + '_' + 'label.npy')\n",
    "    y_pred = np.load('../model/pred_results_finetune/' + model_size + '_' + tissue + '_' + 'predict.npy')\n",
    "\n",
    "    y_score = y_pred.argmax(axis=1)       \n",
    "    test_label = y_true.argmax(axis=1)                         \n",
    "    y_score_pro = y_pred # (212, 2)\n",
    "    y_one_hot = y_true\n",
    "    y_score_one_hot = to_categorical(y_score)\n",
    "\n",
    "    print('accuracy:{}'.format(accuracy_score(test_label, y_score)))\n",
    "    print('precision:{}'.format(precision_score(test_label, y_score)))\n",
    "    print('recall:{}'.format(recall_score(test_label, y_score)))\n",
    "    print('f1-score:{}'.format(f1_score(test_label, y_score)))\n",
    "    \n",
    "    fpr_xgb, tpr_xgb, thresholds = roc_curve(y_one_hot.ravel(),y_score_pro.ravel())   \n",
    "    auc_xgb = auc(fpr_xgb, tpr_xgb)\n",
    "    print(\"AUC : \", auc_xgb)"
   ]
  },
  {
   "cell_type": "code",
   "execution_count": 3,
   "metadata": {},
   "outputs": [
    {
     "name": "stdout",
     "output_type": "stream",
     "text": [
      "\n",
      "\n",
      "Adipose_Subcutaneous\n",
      "accuracy:0.5897435897435898\n",
      "precision:0.5789473684210527\n",
      "recall:1.0\n",
      "f1-score:0.7333333333333334\n",
      "AUC :  0.4924391847468771\n",
      "\n",
      "\n",
      "Artery_Tibial\n",
      "accuracy:0.5333333333333333\n",
      "precision:0.5333333333333333\n",
      "recall:1.0\n",
      "f1-score:0.6956521739130436\n",
      "AUC :  0.5481481481481482\n",
      "\n",
      "\n",
      "Breast_Mammary_Tissue\n",
      "accuracy:0.625\n",
      "precision:0.6666666666666666\n",
      "recall:0.875\n",
      "f1-score:0.7567567567567567\n",
      "AUC :  0.6684027777777778\n",
      "\n",
      "\n",
      "Colon_Transverse\n",
      "accuracy:0.5757575757575758\n",
      "precision:0.0\n",
      "recall:0.0\n",
      "f1-score:0.0\n",
      "AUC :  0.5583103764921946\n",
      "\n",
      "\n",
      "Nerve_Tibial\n",
      "accuracy:0.6216216216216216\n",
      "precision:0.6206896551724138\n",
      "recall:0.8571428571428571\n",
      "f1-score:0.7200000000000001\n",
      "AUC :  0.5427319211102994\n",
      "\n",
      "\n",
      "Testis\n",
      "accuracy:0.6086956521739131\n",
      "precision:0.6428571428571429\n",
      "recall:0.6923076923076923\n",
      "f1-score:0.6666666666666666\n",
      "AUC :  0.555765595463138\n",
      "\n",
      "\n",
      "Thyroid\n",
      "accuracy:0.6304347826086957\n",
      "precision:0.6551724137931034\n",
      "recall:0.7307692307692307\n",
      "f1-score:0.6909090909090909\n",
      "AUC :  0.584593572778828\n"
     ]
    },
    {
     "name": "stderr",
     "output_type": "stream",
     "text": [
      "c:\\Users\\Administrator\\AppData\\Local\\Programs\\Python\\Python39\\lib\\site-packages\\sklearn\\metrics\\_classification.py:1327: UndefinedMetricWarning: Precision is ill-defined and being set to 0.0 due to no predicted samples. Use `zero_division` parameter to control this behavior.\n",
      "  _warn_prf(average, modifier, msg_start, len(result))\n"
     ]
    }
   ],
   "source": [
    "# small model (end-to-end)\n",
    "tissue_list = ['Adipose_Subcutaneous','Artery_Tibial','Breast_Mammary_Tissue','Colon_Transverse','Nerve_Tibial','Testis','Thyroid']\n",
    "model_size = 'small'\n",
    "for tissue in tissue_list:\n",
    "\n",
    "    print('\\n')\n",
    "    print(tissue)\n",
    "    y_true = np.load('../model/pred_results_e2e/' + model_size + '_' + tissue + '_' + 'label.npy')\n",
    "    y_pred = np.load('../model/pred_results_e2e/' + model_size + '_' + tissue + '_' + 'predict.npy')\n",
    "\n",
    "    y_score = y_pred.argmax(axis=1)       \n",
    "    test_label = y_true.argmax(axis=1)                         \n",
    "    y_score_pro = y_pred # (212, 2)\n",
    "    y_one_hot = y_true\n",
    "    y_score_one_hot = to_categorical(y_score)\n",
    "\n",
    "    print('accuracy:{}'.format(accuracy_score(test_label, y_score)))\n",
    "    print('precision:{}'.format(precision_score(test_label, y_score)))\n",
    "    print('recall:{}'.format(recall_score(test_label, y_score)))\n",
    "    print('f1-score:{}'.format(f1_score(test_label, y_score)))\n",
    "    \n",
    "    fpr_xgb, tpr_xgb, thresholds = roc_curve(y_one_hot.ravel(),y_score_pro.ravel())   \n",
    "    auc_xgb = auc(fpr_xgb, tpr_xgb)\n",
    "    print(\"AUC : \", auc_xgb)"
   ]
  },
  {
   "cell_type": "code",
   "execution_count": 4,
   "metadata": {},
   "outputs": [
    {
     "data": {
      "image/png": "[encoded data removed]",
      "text/plain": [
       "<Figure size 640x480 with 1 Axes>"
      ]
     },
     "metadata": {},
     "output_type": "display_data"
    }
   ],
   "source": [
    "import seaborn as sns\n",
    "NA = [0.908,0.856,0.967,0.994,0.869,0.790,0.954]\n",
    "HG = [0.492,0.548,0.668,0.558,0.543,0.556,0.585]\n",
    "\n",
    "df = pd.Series(NA, name=\"Fine-tune\").to_frame().join(pd.Series(HG, name=\"End-to-end\"))\n",
    "sns.boxplot(data=df, width = 0.2) \n",
    "plt.title('AUC performance of tissue-specific prediction (Small Model)')\n",
    "plt.ylabel('AUC')\n",
    "plt.show()"
   ]
  }
 ],
 "metadata": {
  "kernelspec": {
   "display_name": "Python 3.9.12 64-bit",
   "language": "python",
   "name": "python3"
  },
  "language_info": {
   "codemirror_mode": {
    "name": "ipython",
    "version": 3
   },
   "file_extension": ".py",
   "mimetype": "text/x-python",
   "name": "python",
   "nbconvert_exporter": "python",
   "pygments_lexer": "ipython3",
   "version": "3.9.12"
  },
  "orig_nbformat": 4,
  "vscode": {
   "interpreter": {
    "hash": "6fff98fc3b3d81bd655c2cc48858186e4d9e2db7b515bf1c3221888f12a62f87"
   }
  }
 },
 "nbformat": 4,
 "nbformat_minor": 2
}
